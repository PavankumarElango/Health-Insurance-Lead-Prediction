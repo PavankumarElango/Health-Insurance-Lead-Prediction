{
  "nbformat": 4,
  "nbformat_minor": 0,
  "metadata": {
    "accelerator": "GPU",
    "colab": {
      "name": "Untitled31.ipynb",
      "provenance": []
    },
    "kernelspec": {
      "display_name": "Python 3",
      "name": "python3"
    }
  },
  "cells": [
    {
      "cell_type": "code",
      "metadata": {
        "id": "2A8qGazYRGlI"
      },
      "source": [
        "#from google.colab import files\r\n",
        "#uploaded = files.upload()"
      ],
      "execution_count": 162,
      "outputs": []
    },
    {
      "cell_type": "code",
      "metadata": {
        "id": "BOz3RU8H1xzv"
      },
      "source": [
        ""
      ],
      "execution_count": 162,
      "outputs": []
    },
    {
      "cell_type": "code",
      "metadata": {
        "id": "Ub5u9Nn8TubD"
      },
      "source": [
        "#!unrar x \"/content/health insurance prediction.rar\""
      ],
      "execution_count": 163,
      "outputs": []
    },
    {
      "cell_type": "code",
      "metadata": {
        "id": "Ep1LBAON2lnE"
      },
      "source": [
        "import pandas as pd\r\n",
        "import numpy as np\r\n",
        "import os"
      ],
      "execution_count": 655,
      "outputs": []
    },
    {
      "cell_type": "code",
      "metadata": {
        "id": "sDxPB9UD2v4b"
      },
      "source": [
        "path=(r\"/content/health insurance prediction/data\")"
      ],
      "execution_count": 656,
      "outputs": []
    },
    {
      "cell_type": "code",
      "metadata": {
        "id": "ybxSPvNe2zGv"
      },
      "source": [
        "train=pd.read_csv(os.path.join(path,\"train.csv\"))\r\n",
        "test=pd.read_csv(os.path.join(path,\"test.csv\"))"
      ],
      "execution_count": 657,
      "outputs": []
    },
    {
      "cell_type": "code",
      "metadata": {
        "id": "kQDdrJVErd2d"
      },
      "source": [
        "test=pd.read_csv(os.path.join(path,\"test.csv\"))"
      ],
      "execution_count": 576,
      "outputs": []
    },
    {
      "cell_type": "code",
      "metadata": {
        "colab": {
          "base_uri": "https://localhost:8080/"
        },
        "id": "N1wqlMnKsUVM",
        "outputId": "6e6193ac-887f-4cf5-939f-0e69d7d79ef0"
      },
      "source": [
        "test.isnull().sum()"
      ],
      "execution_count": 577,
      "outputs": [
        {
          "output_type": "execute_result",
          "data": {
            "text/plain": [
              "ID                            0\n",
              "City_Code                     0\n",
              "Region_Code                   0\n",
              "Accomodation_Type             0\n",
              "Reco_Insurance_Type           0\n",
              "Upper_Age                     0\n",
              "Lower_Age                     0\n",
              "Is_Spouse                     0\n",
              "Health Indicator           5027\n",
              "Holding_Policy_Duration    8603\n",
              "Holding_Policy_Type        8603\n",
              "Reco_Policy_Cat               0\n",
              "Reco_Policy_Premium           0\n",
              "dtype: int64"
            ]
          },
          "metadata": {
            "tags": []
          },
          "execution_count": 577
        }
      ]
    },
    {
      "cell_type": "code",
      "metadata": {
        "colab": {
          "base_uri": "https://localhost:8080/",
          "height": 117
        },
        "id": "Dj-QRIXh22xK",
        "outputId": "7fe8ec77-9e39-456e-9f10-40bba046312b"
      },
      "source": [
        "train.head(1)"
      ],
      "execution_count": 578,
      "outputs": [
        {
          "output_type": "execute_result",
          "data": {
            "text/html": [
              "<div>\n",
              "<style scoped>\n",
              "    .dataframe tbody tr th:only-of-type {\n",
              "        vertical-align: middle;\n",
              "    }\n",
              "\n",
              "    .dataframe tbody tr th {\n",
              "        vertical-align: top;\n",
              "    }\n",
              "\n",
              "    .dataframe thead th {\n",
              "        text-align: right;\n",
              "    }\n",
              "</style>\n",
              "<table border=\"1\" class=\"dataframe\">\n",
              "  <thead>\n",
              "    <tr style=\"text-align: right;\">\n",
              "      <th></th>\n",
              "      <th>ID</th>\n",
              "      <th>City_Code</th>\n",
              "      <th>Region_Code</th>\n",
              "      <th>Accomodation_Type</th>\n",
              "      <th>Reco_Insurance_Type</th>\n",
              "      <th>Upper_Age</th>\n",
              "      <th>Lower_Age</th>\n",
              "      <th>Is_Spouse</th>\n",
              "      <th>Health Indicator</th>\n",
              "      <th>Holding_Policy_Duration</th>\n",
              "      <th>Holding_Policy_Type</th>\n",
              "      <th>Reco_Policy_Cat</th>\n",
              "      <th>Reco_Policy_Premium</th>\n",
              "      <th>Response</th>\n",
              "    </tr>\n",
              "  </thead>\n",
              "  <tbody>\n",
              "    <tr>\n",
              "      <th>0</th>\n",
              "      <td>1</td>\n",
              "      <td>C3</td>\n",
              "      <td>3213</td>\n",
              "      <td>Rented</td>\n",
              "      <td>Individual</td>\n",
              "      <td>36</td>\n",
              "      <td>36</td>\n",
              "      <td>No</td>\n",
              "      <td>X1</td>\n",
              "      <td>14+</td>\n",
              "      <td>3.0</td>\n",
              "      <td>22</td>\n",
              "      <td>11628.0</td>\n",
              "      <td>0</td>\n",
              "    </tr>\n",
              "  </tbody>\n",
              "</table>\n",
              "</div>"
            ],
            "text/plain": [
              "   ID City_Code  Region_Code  ... Reco_Policy_Cat Reco_Policy_Premium  Response\n",
              "0   1        C3         3213  ...              22             11628.0         0\n",
              "\n",
              "[1 rows x 14 columns]"
            ]
          },
          "metadata": {
            "tags": []
          },
          "execution_count": 578
        }
      ]
    },
    {
      "cell_type": "code",
      "metadata": {
        "colab": {
          "base_uri": "https://localhost:8080/",
          "height": 117
        },
        "id": "v_NHGYSQ2-Hk",
        "outputId": "bff79fdf-9736-45bb-e2f5-2e2ac879ba03"
      },
      "source": [
        "test.head(1)"
      ],
      "execution_count": 579,
      "outputs": [
        {
          "output_type": "execute_result",
          "data": {
            "text/html": [
              "<div>\n",
              "<style scoped>\n",
              "    .dataframe tbody tr th:only-of-type {\n",
              "        vertical-align: middle;\n",
              "    }\n",
              "\n",
              "    .dataframe tbody tr th {\n",
              "        vertical-align: top;\n",
              "    }\n",
              "\n",
              "    .dataframe thead th {\n",
              "        text-align: right;\n",
              "    }\n",
              "</style>\n",
              "<table border=\"1\" class=\"dataframe\">\n",
              "  <thead>\n",
              "    <tr style=\"text-align: right;\">\n",
              "      <th></th>\n",
              "      <th>ID</th>\n",
              "      <th>City_Code</th>\n",
              "      <th>Region_Code</th>\n",
              "      <th>Accomodation_Type</th>\n",
              "      <th>Reco_Insurance_Type</th>\n",
              "      <th>Upper_Age</th>\n",
              "      <th>Lower_Age</th>\n",
              "      <th>Is_Spouse</th>\n",
              "      <th>Health Indicator</th>\n",
              "      <th>Holding_Policy_Duration</th>\n",
              "      <th>Holding_Policy_Type</th>\n",
              "      <th>Reco_Policy_Cat</th>\n",
              "      <th>Reco_Policy_Premium</th>\n",
              "    </tr>\n",
              "  </thead>\n",
              "  <tbody>\n",
              "    <tr>\n",
              "      <th>0</th>\n",
              "      <td>50883</td>\n",
              "      <td>C1</td>\n",
              "      <td>156</td>\n",
              "      <td>Owned</td>\n",
              "      <td>Individual</td>\n",
              "      <td>30</td>\n",
              "      <td>30</td>\n",
              "      <td>No</td>\n",
              "      <td>NaN</td>\n",
              "      <td>6.0</td>\n",
              "      <td>3.0</td>\n",
              "      <td>5</td>\n",
              "      <td>11934.0</td>\n",
              "    </tr>\n",
              "  </tbody>\n",
              "</table>\n",
              "</div>"
            ],
            "text/plain": [
              "      ID City_Code  ...  Reco_Policy_Cat Reco_Policy_Premium\n",
              "0  50883        C1  ...                5             11934.0\n",
              "\n",
              "[1 rows x 13 columns]"
            ]
          },
          "metadata": {
            "tags": []
          },
          "execution_count": 579
        }
      ]
    },
    {
      "cell_type": "code",
      "metadata": {
        "colab": {
          "base_uri": "https://localhost:8080/"
        },
        "id": "Amdd7MDj2_qv",
        "outputId": "61cd8748-a09e-416a-d68e-630e01f39673"
      },
      "source": [
        "train.isnull().sum()"
      ],
      "execution_count": 580,
      "outputs": [
        {
          "output_type": "execute_result",
          "data": {
            "text/plain": [
              "ID                             0\n",
              "City_Code                      0\n",
              "Region_Code                    0\n",
              "Accomodation_Type              0\n",
              "Reco_Insurance_Type            0\n",
              "Upper_Age                      0\n",
              "Lower_Age                      0\n",
              "Is_Spouse                      0\n",
              "Health Indicator           11691\n",
              "Holding_Policy_Duration    20251\n",
              "Holding_Policy_Type        20251\n",
              "Reco_Policy_Cat                0\n",
              "Reco_Policy_Premium            0\n",
              "Response                       0\n",
              "dtype: int64"
            ]
          },
          "metadata": {
            "tags": []
          },
          "execution_count": 580
        }
      ]
    },
    {
      "cell_type": "code",
      "metadata": {
        "colab": {
          "base_uri": "https://localhost:8080/"
        },
        "id": "-hh2mUFp3I2j",
        "outputId": "d41fef77-65bf-46ba-8fd3-e3a05bcd9607"
      },
      "source": [
        "test.isnull().sum()"
      ],
      "execution_count": 581,
      "outputs": [
        {
          "output_type": "execute_result",
          "data": {
            "text/plain": [
              "ID                            0\n",
              "City_Code                     0\n",
              "Region_Code                   0\n",
              "Accomodation_Type             0\n",
              "Reco_Insurance_Type           0\n",
              "Upper_Age                     0\n",
              "Lower_Age                     0\n",
              "Is_Spouse                     0\n",
              "Health Indicator           5027\n",
              "Holding_Policy_Duration    8603\n",
              "Holding_Policy_Type        8603\n",
              "Reco_Policy_Cat               0\n",
              "Reco_Policy_Premium           0\n",
              "dtype: int64"
            ]
          },
          "metadata": {
            "tags": []
          },
          "execution_count": 581
        }
      ]
    },
    {
      "cell_type": "code",
      "metadata": {
        "id": "T1Fe6xB-3LoE"
      },
      "source": [
        "#funtion  to display null values\r\n",
        "def percent_null_values(x):\r\n",
        "  rows=x.shape[0]\r\n",
        "  print((x.isnull().sum()/rows)*100,\"%\")"
      ],
      "execution_count": 582,
      "outputs": []
    },
    {
      "cell_type": "code",
      "metadata": {
        "colab": {
          "base_uri": "https://localhost:8080/"
        },
        "id": "Z6szfeca3WCT",
        "outputId": "55273f38-796c-4edb-c886-d744193e4166"
      },
      "source": [
        "percent_null_values(train['Health Indicator'])\r\n",
        "percent_null_values(train['Holding_Policy_Duration'])\r\n",
        "percent_null_values(train['Holding_Policy_Type'])"
      ],
      "execution_count": 583,
      "outputs": [
        {
          "output_type": "stream",
          "text": [
            "22.97669116780001 %\n",
            "39.799929248064146 %\n",
            "39.799929248064146 %\n"
          ],
          "name": "stdout"
        }
      ]
    },
    {
      "cell_type": "code",
      "metadata": {
        "colab": {
          "base_uri": "https://localhost:8080/"
        },
        "id": "AJLSraoO3e8g",
        "outputId": "331e9515-8401-4db7-c1ca-3342f2a168a8"
      },
      "source": [
        "percent_null_values(test['Health Indicator'])\r\n",
        "percent_null_values(test['Holding_Policy_Duration'])\r\n",
        "percent_null_values(test['Holding_Policy_Type'])"
      ],
      "execution_count": 584,
      "outputs": [
        {
          "output_type": "stream",
          "text": [
            "23.054345333639073 %\n",
            "39.454253611556986 %\n",
            "39.454253611556986 %\n"
          ],
          "name": "stdout"
        }
      ]
    },
    {
      "cell_type": "markdown",
      "metadata": {
        "id": "EdQ_BAyk3q_8"
      },
      "source": [
        ""
      ]
    },
    {
      "cell_type": "markdown",
      "metadata": {
        "id": "oEAio02ha-3q"
      },
      "source": [
        "To fill a missing values we use KNN imputer"
      ]
    },
    {
      "cell_type": "code",
      "metadata": {
        "id": "mk332VzC3kk4"
      },
      "source": [
        "import sklearn\r\n",
        "from sklearn.impute import KNNImputer"
      ],
      "execution_count": 585,
      "outputs": []
    },
    {
      "cell_type": "code",
      "metadata": {
        "colab": {
          "base_uri": "https://localhost:8080/"
        },
        "id": "uHR42rgI3wyP",
        "outputId": "743a7f8b-5532-43e3-d80b-4f483bc33f38"
      },
      "source": [
        "\r\n",
        "imputer = KNNImputer(n_neighbors=5, weights='uniform', metric='nan_euclidean')\r\n",
        "imputer.fit(train['Holding_Policy_Type'].values.reshape(-1,1))\r\n",
        "#1\r\n",
        "train['Holding_Policy_Type']=imputer.transform(train['Holding_Policy_Type'].values.reshape(-1,1))\r\n",
        "percent_null_values(train['Holding_Policy_Type'])\r\n",
        "#2\r\n",
        "train['Holding_Policy_Duration']=train['Holding_Policy_Duration'].astype(str).replace(\"14+\",\"14\")\r\n",
        "train['Holding_Policy_Duration']=train['Holding_Policy_Duration'].astype(float)\r\n",
        "imputer.fit(train['Holding_Policy_Duration'].values.reshape(-1,1))\r\n",
        "train['Holding_Policy_Duration']=imputer.transform(train['Holding_Policy_Duration'].values.reshape(-1,1))\r\n",
        "percent_null_values(train['Holding_Policy_Duration'])"
      ],
      "execution_count": 658,
      "outputs": [
        {
          "output_type": "stream",
          "text": [
            "0.0 %\n",
            "0.0 %\n"
          ],
          "name": "stdout"
        }
      ]
    },
    {
      "cell_type": "code",
      "metadata": {
        "colab": {
          "base_uri": "https://localhost:8080/"
        },
        "id": "gJ_wlocy4rm3",
        "outputId": "be6fefb2-18ef-4208-c465-df3aa8107d3b"
      },
      "source": [
        "imputer = KNNImputer(n_neighbors=5, weights='uniform', metric='nan_euclidean')\r\n",
        "imputer.fit(test['Holding_Policy_Type'].values.reshape(-1,1))\r\n",
        "#1\r\n",
        "test['Holding_Policy_Type']=imputer.transform(test['Holding_Policy_Type'].values.reshape(-1,1))\r\n",
        "percent_null_values(test['Holding_Policy_Type'])\r\n",
        "#2\r\n",
        "test['Holding_Policy_Duration']=test['Holding_Policy_Duration'].astype(str).replace(\"14+\",\"14\")\r\n",
        "test['Holding_Policy_Duration']=test['Holding_Policy_Duration'].astype(float)\r\n",
        "imputer.fit(test['Holding_Policy_Duration'].values.reshape(-1,1))\r\n",
        "test['Holding_Policy_Duration']=imputer.transform(test['Holding_Policy_Duration'].values.reshape(-1,1))\r\n",
        "percent_null_values(test['Holding_Policy_Duration'])"
      ],
      "execution_count": 587,
      "outputs": [
        {
          "output_type": "stream",
          "text": [
            "0.0 %\n",
            "0.0 %\n"
          ],
          "name": "stdout"
        }
      ]
    },
    {
      "cell_type": "code",
      "metadata": {
        "colab": {
          "base_uri": "https://localhost:8080/",
          "height": 453
        },
        "id": "fSjIoSAN4_K4",
        "outputId": "9258f714-02cf-4471-af9d-9b6d4ec1f291"
      },
      "source": [
        "train"
      ],
      "execution_count": 588,
      "outputs": [
        {
          "output_type": "execute_result",
          "data": {
            "text/html": [
              "<div>\n",
              "<style scoped>\n",
              "    .dataframe tbody tr th:only-of-type {\n",
              "        vertical-align: middle;\n",
              "    }\n",
              "\n",
              "    .dataframe tbody tr th {\n",
              "        vertical-align: top;\n",
              "    }\n",
              "\n",
              "    .dataframe thead th {\n",
              "        text-align: right;\n",
              "    }\n",
              "</style>\n",
              "<table border=\"1\" class=\"dataframe\">\n",
              "  <thead>\n",
              "    <tr style=\"text-align: right;\">\n",
              "      <th></th>\n",
              "      <th>ID</th>\n",
              "      <th>City_Code</th>\n",
              "      <th>Region_Code</th>\n",
              "      <th>Accomodation_Type</th>\n",
              "      <th>Reco_Insurance_Type</th>\n",
              "      <th>Upper_Age</th>\n",
              "      <th>Lower_Age</th>\n",
              "      <th>Is_Spouse</th>\n",
              "      <th>Health Indicator</th>\n",
              "      <th>Holding_Policy_Duration</th>\n",
              "      <th>Holding_Policy_Type</th>\n",
              "      <th>Reco_Policy_Cat</th>\n",
              "      <th>Reco_Policy_Premium</th>\n",
              "      <th>Response</th>\n",
              "    </tr>\n",
              "  </thead>\n",
              "  <tbody>\n",
              "    <tr>\n",
              "      <th>0</th>\n",
              "      <td>1</td>\n",
              "      <td>C3</td>\n",
              "      <td>3213</td>\n",
              "      <td>Rented</td>\n",
              "      <td>Individual</td>\n",
              "      <td>36</td>\n",
              "      <td>36</td>\n",
              "      <td>No</td>\n",
              "      <td>X1</td>\n",
              "      <td>14.000000</td>\n",
              "      <td>3.000000</td>\n",
              "      <td>22</td>\n",
              "      <td>11628.0</td>\n",
              "      <td>0</td>\n",
              "    </tr>\n",
              "    <tr>\n",
              "      <th>1</th>\n",
              "      <td>2</td>\n",
              "      <td>C5</td>\n",
              "      <td>1117</td>\n",
              "      <td>Owned</td>\n",
              "      <td>Joint</td>\n",
              "      <td>75</td>\n",
              "      <td>22</td>\n",
              "      <td>No</td>\n",
              "      <td>X2</td>\n",
              "      <td>6.015246</td>\n",
              "      <td>2.439228</td>\n",
              "      <td>22</td>\n",
              "      <td>30510.0</td>\n",
              "      <td>0</td>\n",
              "    </tr>\n",
              "    <tr>\n",
              "      <th>2</th>\n",
              "      <td>3</td>\n",
              "      <td>C5</td>\n",
              "      <td>3732</td>\n",
              "      <td>Owned</td>\n",
              "      <td>Individual</td>\n",
              "      <td>32</td>\n",
              "      <td>32</td>\n",
              "      <td>No</td>\n",
              "      <td>NaN</td>\n",
              "      <td>1.000000</td>\n",
              "      <td>1.000000</td>\n",
              "      <td>19</td>\n",
              "      <td>7450.0</td>\n",
              "      <td>1</td>\n",
              "    </tr>\n",
              "    <tr>\n",
              "      <th>3</th>\n",
              "      <td>4</td>\n",
              "      <td>C24</td>\n",
              "      <td>4378</td>\n",
              "      <td>Owned</td>\n",
              "      <td>Joint</td>\n",
              "      <td>52</td>\n",
              "      <td>48</td>\n",
              "      <td>No</td>\n",
              "      <td>X1</td>\n",
              "      <td>14.000000</td>\n",
              "      <td>3.000000</td>\n",
              "      <td>19</td>\n",
              "      <td>17780.0</td>\n",
              "      <td>0</td>\n",
              "    </tr>\n",
              "    <tr>\n",
              "      <th>4</th>\n",
              "      <td>5</td>\n",
              "      <td>C8</td>\n",
              "      <td>2190</td>\n",
              "      <td>Rented</td>\n",
              "      <td>Individual</td>\n",
              "      <td>44</td>\n",
              "      <td>44</td>\n",
              "      <td>No</td>\n",
              "      <td>X2</td>\n",
              "      <td>3.000000</td>\n",
              "      <td>1.000000</td>\n",
              "      <td>16</td>\n",
              "      <td>10404.0</td>\n",
              "      <td>0</td>\n",
              "    </tr>\n",
              "    <tr>\n",
              "      <th>...</th>\n",
              "      <td>...</td>\n",
              "      <td>...</td>\n",
              "      <td>...</td>\n",
              "      <td>...</td>\n",
              "      <td>...</td>\n",
              "      <td>...</td>\n",
              "      <td>...</td>\n",
              "      <td>...</td>\n",
              "      <td>...</td>\n",
              "      <td>...</td>\n",
              "      <td>...</td>\n",
              "      <td>...</td>\n",
              "      <td>...</td>\n",
              "      <td>...</td>\n",
              "    </tr>\n",
              "    <tr>\n",
              "      <th>50877</th>\n",
              "      <td>50878</td>\n",
              "      <td>C4</td>\n",
              "      <td>845</td>\n",
              "      <td>Rented</td>\n",
              "      <td>Individual</td>\n",
              "      <td>22</td>\n",
              "      <td>22</td>\n",
              "      <td>No</td>\n",
              "      <td>X3</td>\n",
              "      <td>6.015246</td>\n",
              "      <td>2.439228</td>\n",
              "      <td>18</td>\n",
              "      <td>7704.0</td>\n",
              "      <td>0</td>\n",
              "    </tr>\n",
              "    <tr>\n",
              "      <th>50878</th>\n",
              "      <td>50879</td>\n",
              "      <td>C5</td>\n",
              "      <td>4188</td>\n",
              "      <td>Rented</td>\n",
              "      <td>Individual</td>\n",
              "      <td>27</td>\n",
              "      <td>27</td>\n",
              "      <td>No</td>\n",
              "      <td>X3</td>\n",
              "      <td>7.000000</td>\n",
              "      <td>3.000000</td>\n",
              "      <td>4</td>\n",
              "      <td>5408.0</td>\n",
              "      <td>0</td>\n",
              "    </tr>\n",
              "    <tr>\n",
              "      <th>50879</th>\n",
              "      <td>50880</td>\n",
              "      <td>C1</td>\n",
              "      <td>442</td>\n",
              "      <td>Rented</td>\n",
              "      <td>Individual</td>\n",
              "      <td>63</td>\n",
              "      <td>63</td>\n",
              "      <td>No</td>\n",
              "      <td>X2</td>\n",
              "      <td>14.000000</td>\n",
              "      <td>1.000000</td>\n",
              "      <td>12</td>\n",
              "      <td>11374.0</td>\n",
              "      <td>0</td>\n",
              "    </tr>\n",
              "    <tr>\n",
              "      <th>50880</th>\n",
              "      <td>50881</td>\n",
              "      <td>C1</td>\n",
              "      <td>4</td>\n",
              "      <td>Owned</td>\n",
              "      <td>Joint</td>\n",
              "      <td>71</td>\n",
              "      <td>49</td>\n",
              "      <td>No</td>\n",
              "      <td>X2</td>\n",
              "      <td>2.000000</td>\n",
              "      <td>2.000000</td>\n",
              "      <td>16</td>\n",
              "      <td>28179.2</td>\n",
              "      <td>1</td>\n",
              "    </tr>\n",
              "    <tr>\n",
              "      <th>50881</th>\n",
              "      <td>50882</td>\n",
              "      <td>C3</td>\n",
              "      <td>3866</td>\n",
              "      <td>Rented</td>\n",
              "      <td>Individual</td>\n",
              "      <td>24</td>\n",
              "      <td>24</td>\n",
              "      <td>No</td>\n",
              "      <td>X3</td>\n",
              "      <td>2.000000</td>\n",
              "      <td>3.000000</td>\n",
              "      <td>18</td>\n",
              "      <td>11424.0</td>\n",
              "      <td>0</td>\n",
              "    </tr>\n",
              "  </tbody>\n",
              "</table>\n",
              "<p>50882 rows × 14 columns</p>\n",
              "</div>"
            ],
            "text/plain": [
              "          ID City_Code  ...  Reco_Policy_Premium Response\n",
              "0          1        C3  ...              11628.0        0\n",
              "1          2        C5  ...              30510.0        0\n",
              "2          3        C5  ...               7450.0        1\n",
              "3          4       C24  ...              17780.0        0\n",
              "4          5        C8  ...              10404.0        0\n",
              "...      ...       ...  ...                  ...      ...\n",
              "50877  50878        C4  ...               7704.0        0\n",
              "50878  50879        C5  ...               5408.0        0\n",
              "50879  50880        C1  ...              11374.0        0\n",
              "50880  50881        C1  ...              28179.2        1\n",
              "50881  50882        C3  ...              11424.0        0\n",
              "\n",
              "[50882 rows x 14 columns]"
            ]
          },
          "metadata": {
            "tags": []
          },
          "execution_count": 588
        }
      ]
    },
    {
      "cell_type": "code",
      "metadata": {
        "colab": {
          "base_uri": "https://localhost:8080/"
        },
        "id": "DZjAWWeS73FZ",
        "outputId": "43a96bac-b225-482d-d425-14c2a8bc2c57"
      },
      "source": [
        "train.info()"
      ],
      "execution_count": 590,
      "outputs": [
        {
          "output_type": "stream",
          "text": [
            "<class 'pandas.core.frame.DataFrame'>\n",
            "RangeIndex: 50882 entries, 0 to 50881\n",
            "Data columns (total 14 columns):\n",
            " #   Column                   Non-Null Count  Dtype  \n",
            "---  ------                   --------------  -----  \n",
            " 0   ID                       50882 non-null  int64  \n",
            " 1   City_Code                50882 non-null  object \n",
            " 2   Region_Code              50882 non-null  int64  \n",
            " 3   Accomodation_Type        50882 non-null  object \n",
            " 4   Reco_Insurance_Type      50882 non-null  object \n",
            " 5   Upper_Age                50882 non-null  int64  \n",
            " 6   Lower_Age                50882 non-null  int64  \n",
            " 7   Is_Spouse                50882 non-null  object \n",
            " 8   Health Indicator         39191 non-null  object \n",
            " 9   Holding_Policy_Duration  50882 non-null  float64\n",
            " 10  Holding_Policy_Type      50882 non-null  float64\n",
            " 11  Reco_Policy_Cat          50882 non-null  int64  \n",
            " 12  Reco_Policy_Premium      50882 non-null  float64\n",
            " 13  Response                 50882 non-null  int64  \n",
            "dtypes: float64(3), int64(6), object(5)\n",
            "memory usage: 5.4+ MB\n"
          ],
          "name": "stdout"
        }
      ]
    },
    {
      "cell_type": "code",
      "metadata": {
        "id": "qu7W3o0x6Qo0"
      },
      "source": [
        "\r\n",
        "numerical_columns=['Region_Code','Upper_Age','Lower_Age','Holding_Policy_Duration','Reco_Policy_Premium']\r\n",
        "categorical_columns1=['Accomodation_Type','Reco_Insurance_Type','Health Indicator','Is_Spouse','Holding_Policy_Type','Reco_Policy_Cat','Response']\r\n"
      ],
      "execution_count": 592,
      "outputs": []
    },
    {
      "cell_type": "code",
      "metadata": {
        "colab": {
          "base_uri": "https://localhost:8080/",
          "height": 294
        },
        "id": "YzhvHcYb61sH",
        "outputId": "2bf3ff41-1f2b-41ad-e0b4-e48e70a0bfc0"
      },
      "source": [
        "train[numerical_columns].describe()"
      ],
      "execution_count": 594,
      "outputs": [
        {
          "output_type": "execute_result",
          "data": {
            "text/html": [
              "<div>\n",
              "<style scoped>\n",
              "    .dataframe tbody tr th:only-of-type {\n",
              "        vertical-align: middle;\n",
              "    }\n",
              "\n",
              "    .dataframe tbody tr th {\n",
              "        vertical-align: top;\n",
              "    }\n",
              "\n",
              "    .dataframe thead th {\n",
              "        text-align: right;\n",
              "    }\n",
              "</style>\n",
              "<table border=\"1\" class=\"dataframe\">\n",
              "  <thead>\n",
              "    <tr style=\"text-align: right;\">\n",
              "      <th></th>\n",
              "      <th>Region_Code</th>\n",
              "      <th>Upper_Age</th>\n",
              "      <th>Lower_Age</th>\n",
              "      <th>Holding_Policy_Duration</th>\n",
              "      <th>Reco_Policy_Premium</th>\n",
              "    </tr>\n",
              "  </thead>\n",
              "  <tbody>\n",
              "    <tr>\n",
              "      <th>count</th>\n",
              "      <td>50882.000000</td>\n",
              "      <td>50882.000000</td>\n",
              "      <td>50882.000000</td>\n",
              "      <td>50882.000000</td>\n",
              "      <td>50882.000000</td>\n",
              "    </tr>\n",
              "    <tr>\n",
              "      <th>mean</th>\n",
              "      <td>1732.788707</td>\n",
              "      <td>44.856275</td>\n",
              "      <td>42.738866</td>\n",
              "      <td>6.015246</td>\n",
              "      <td>14183.950069</td>\n",
              "    </tr>\n",
              "    <tr>\n",
              "      <th>std</th>\n",
              "      <td>1424.081652</td>\n",
              "      <td>17.310271</td>\n",
              "      <td>17.319375</td>\n",
              "      <td>3.492748</td>\n",
              "      <td>6590.074873</td>\n",
              "    </tr>\n",
              "    <tr>\n",
              "      <th>min</th>\n",
              "      <td>1.000000</td>\n",
              "      <td>18.000000</td>\n",
              "      <td>16.000000</td>\n",
              "      <td>1.000000</td>\n",
              "      <td>2280.000000</td>\n",
              "    </tr>\n",
              "    <tr>\n",
              "      <th>25%</th>\n",
              "      <td>523.000000</td>\n",
              "      <td>28.000000</td>\n",
              "      <td>27.000000</td>\n",
              "      <td>4.000000</td>\n",
              "      <td>9248.000000</td>\n",
              "    </tr>\n",
              "    <tr>\n",
              "      <th>50%</th>\n",
              "      <td>1391.000000</td>\n",
              "      <td>44.000000</td>\n",
              "      <td>40.000000</td>\n",
              "      <td>6.015246</td>\n",
              "      <td>13178.000000</td>\n",
              "    </tr>\n",
              "    <tr>\n",
              "      <th>75%</th>\n",
              "      <td>2667.000000</td>\n",
              "      <td>59.000000</td>\n",
              "      <td>57.000000</td>\n",
              "      <td>6.015246</td>\n",
              "      <td>18096.000000</td>\n",
              "    </tr>\n",
              "    <tr>\n",
              "      <th>max</th>\n",
              "      <td>6194.000000</td>\n",
              "      <td>75.000000</td>\n",
              "      <td>75.000000</td>\n",
              "      <td>14.000000</td>\n",
              "      <td>43350.400000</td>\n",
              "    </tr>\n",
              "  </tbody>\n",
              "</table>\n",
              "</div>"
            ],
            "text/plain": [
              "        Region_Code     Upper_Age  ...  Holding_Policy_Duration  Reco_Policy_Premium\n",
              "count  50882.000000  50882.000000  ...             50882.000000         50882.000000\n",
              "mean    1732.788707     44.856275  ...                 6.015246         14183.950069\n",
              "std     1424.081652     17.310271  ...                 3.492748          6590.074873\n",
              "min        1.000000     18.000000  ...                 1.000000          2280.000000\n",
              "25%      523.000000     28.000000  ...                 4.000000          9248.000000\n",
              "50%     1391.000000     44.000000  ...                 6.015246         13178.000000\n",
              "75%     2667.000000     59.000000  ...                 6.015246         18096.000000\n",
              "max     6194.000000     75.000000  ...                14.000000         43350.400000\n",
              "\n",
              "[8 rows x 5 columns]"
            ]
          },
          "metadata": {
            "tags": []
          },
          "execution_count": 594
        }
      ]
    },
    {
      "cell_type": "code",
      "metadata": {
        "colab": {
          "base_uri": "https://localhost:8080/",
          "height": 294
        },
        "id": "3lj7LwmB67Ij",
        "outputId": "67b344d5-e22e-4507-ccea-625a42cf8a7b"
      },
      "source": [
        "test[numerical_columns].describe()"
      ],
      "execution_count": 595,
      "outputs": [
        {
          "output_type": "execute_result",
          "data": {
            "text/html": [
              "<div>\n",
              "<style scoped>\n",
              "    .dataframe tbody tr th:only-of-type {\n",
              "        vertical-align: middle;\n",
              "    }\n",
              "\n",
              "    .dataframe tbody tr th {\n",
              "        vertical-align: top;\n",
              "    }\n",
              "\n",
              "    .dataframe thead th {\n",
              "        text-align: right;\n",
              "    }\n",
              "</style>\n",
              "<table border=\"1\" class=\"dataframe\">\n",
              "  <thead>\n",
              "    <tr style=\"text-align: right;\">\n",
              "      <th></th>\n",
              "      <th>Region_Code</th>\n",
              "      <th>Upper_Age</th>\n",
              "      <th>Lower_Age</th>\n",
              "      <th>Holding_Policy_Duration</th>\n",
              "      <th>Reco_Policy_Premium</th>\n",
              "    </tr>\n",
              "  </thead>\n",
              "  <tbody>\n",
              "    <tr>\n",
              "      <th>count</th>\n",
              "      <td>21805.000000</td>\n",
              "      <td>21805.000000</td>\n",
              "      <td>21805.000000</td>\n",
              "      <td>21805.000000</td>\n",
              "      <td>21805.000000</td>\n",
              "    </tr>\n",
              "    <tr>\n",
              "      <th>mean</th>\n",
              "      <td>1748.737491</td>\n",
              "      <td>44.877734</td>\n",
              "      <td>42.748085</td>\n",
              "      <td>6.050523</td>\n",
              "      <td>14220.306581</td>\n",
              "    </tr>\n",
              "    <tr>\n",
              "      <th>std</th>\n",
              "      <td>1438.358949</td>\n",
              "      <td>17.254898</td>\n",
              "      <td>17.269112</td>\n",
              "      <td>3.501915</td>\n",
              "      <td>6497.996164</td>\n",
              "    </tr>\n",
              "    <tr>\n",
              "      <th>min</th>\n",
              "      <td>1.000000</td>\n",
              "      <td>18.000000</td>\n",
              "      <td>16.000000</td>\n",
              "      <td>1.000000</td>\n",
              "      <td>2152.000000</td>\n",
              "    </tr>\n",
              "    <tr>\n",
              "      <th>25%</th>\n",
              "      <td>535.000000</td>\n",
              "      <td>28.000000</td>\n",
              "      <td>27.000000</td>\n",
              "      <td>4.000000</td>\n",
              "      <td>9285.000000</td>\n",
              "    </tr>\n",
              "    <tr>\n",
              "      <th>50%</th>\n",
              "      <td>1392.000000</td>\n",
              "      <td>44.000000</td>\n",
              "      <td>41.000000</td>\n",
              "      <td>6.050523</td>\n",
              "      <td>13244.000000</td>\n",
              "    </tr>\n",
              "    <tr>\n",
              "      <th>75%</th>\n",
              "      <td>2712.000000</td>\n",
              "      <td>59.000000</td>\n",
              "      <td>57.000000</td>\n",
              "      <td>6.050523</td>\n",
              "      <td>18201.600000</td>\n",
              "    </tr>\n",
              "    <tr>\n",
              "      <th>max</th>\n",
              "      <td>6185.000000</td>\n",
              "      <td>75.000000</td>\n",
              "      <td>75.000000</td>\n",
              "      <td>14.000000</td>\n",
              "      <td>43776.000000</td>\n",
              "    </tr>\n",
              "  </tbody>\n",
              "</table>\n",
              "</div>"
            ],
            "text/plain": [
              "        Region_Code     Upper_Age  ...  Holding_Policy_Duration  Reco_Policy_Premium\n",
              "count  21805.000000  21805.000000  ...             21805.000000         21805.000000\n",
              "mean    1748.737491     44.877734  ...                 6.050523         14220.306581\n",
              "std     1438.358949     17.254898  ...                 3.501915          6497.996164\n",
              "min        1.000000     18.000000  ...                 1.000000          2152.000000\n",
              "25%      535.000000     28.000000  ...                 4.000000          9285.000000\n",
              "50%     1392.000000     44.000000  ...                 6.050523         13244.000000\n",
              "75%     2712.000000     59.000000  ...                 6.050523         18201.600000\n",
              "max     6185.000000     75.000000  ...                14.000000         43776.000000\n",
              "\n",
              "[8 rows x 5 columns]"
            ]
          },
          "metadata": {
            "tags": []
          },
          "execution_count": 595
        }
      ]
    },
    {
      "cell_type": "code",
      "metadata": {
        "id": "n3i-NagO-7Wg"
      },
      "source": [
        ""
      ],
      "execution_count": null,
      "outputs": []
    },
    {
      "cell_type": "code",
      "metadata": {
        "id": "ERt8HUnI-8gl"
      },
      "source": [
        ""
      ],
      "execution_count": null,
      "outputs": []
    },
    {
      "cell_type": "code",
      "metadata": {
        "colab": {
          "base_uri": "https://localhost:8080/",
          "height": 352
        },
        "id": "WOBX5Ao96_9P",
        "outputId": "135d9421-2db8-4884-b8a3-f55de9f895e0"
      },
      "source": [
        "#target variable\r\n",
        "import seaborn as sns\r\n",
        "sns.countplot(train.Response)\r\n"
      ],
      "execution_count": 599,
      "outputs": [
        {
          "output_type": "stream",
          "text": [
            "/usr/local/lib/python3.7/dist-packages/seaborn/_decorators.py:43: FutureWarning: Pass the following variable as a keyword arg: x. From version 0.12, the only valid positional argument will be `data`, and passing other arguments without an explicit keyword will result in an error or misinterpretation.\n",
            "  FutureWarning\n"
          ],
          "name": "stderr"
        },
        {
          "output_type": "execute_result",
          "data": {
            "text/plain": [
              "<matplotlib.axes._subplots.AxesSubplot at 0x7fbe8903cad0>"
            ]
          },
          "metadata": {
            "tags": []
          },
          "execution_count": 599
        },
        {
          "output_type": "display_data",
          "data": {
            "image/png": "[encoded data removed]",
            "text/plain": [
              "<Figure size 432x288 with 1 Axes>"
            ]
          },
          "metadata": {
            "tags": [],
            "needs_background": "light"
          }
        }
      ]
    },
    {
      "cell_type": "code",
      "metadata": {
        "colab": {
          "base_uri": "https://localhost:8080/",
          "height": 352
        },
        "id": "Lhigk8S_-91E",
        "outputId": "eae7666e-f628-4540-c389-27e3f3252fb7"
      },
      "source": [
        "sns.distplot(train.Upper_Age)\r\n"
      ],
      "execution_count": 601,
      "outputs": [
        {
          "output_type": "stream",
          "text": [
            "/usr/local/lib/python3.7/dist-packages/seaborn/distributions.py:2557: FutureWarning: `distplot` is a deprecated function and will be removed in a future version. Please adapt your code to use either `displot` (a figure-level function with similar flexibility) or `histplot` (an axes-level function for histograms).\n",
            "  warnings.warn(msg, FutureWarning)\n"
          ],
          "name": "stderr"
        },
        {
          "output_type": "execute_result",
          "data": {
            "text/plain": [
              "<matplotlib.axes._subplots.AxesSubplot at 0x7fbe89447490>"
            ]
          },
          "metadata": {
            "tags": []
          },
          "execution_count": 601
        },
        {
          "output_type": "display_data",
          "data": {
            "image/png": "[encoded data removed]",
            "text/plain": [
              "<Figure size 432x288 with 1 Axes>"
            ]
          },
          "metadata": {
            "tags": [],
            "needs_background": "light"
          }
        }
      ]
    },
    {
      "cell_type": "code",
      "metadata": {
        "colab": {
          "base_uri": "https://localhost:8080/",
          "height": 352
        },
        "id": "8SZ1zfNG_Cvh",
        "outputId": "b8b6ca44-24ac-4df4-ff48-5447e7f202f9"
      },
      "source": [
        "sns.distplot(train.Lower_Age)"
      ],
      "execution_count": 603,
      "outputs": [
        {
          "output_type": "stream",
          "text": [
            "/usr/local/lib/python3.7/dist-packages/seaborn/distributions.py:2557: FutureWarning: `distplot` is a deprecated function and will be removed in a future version. Please adapt your code to use either `displot` (a figure-level function with similar flexibility) or `histplot` (an axes-level function for histograms).\n",
            "  warnings.warn(msg, FutureWarning)\n"
          ],
          "name": "stderr"
        },
        {
          "output_type": "execute_result",
          "data": {
            "text/plain": [
              "<matplotlib.axes._subplots.AxesSubplot at 0x7fbe87907fd0>"
            ]
          },
          "metadata": {
            "tags": []
          },
          "execution_count": 603
        },
        {
          "output_type": "display_data",
          "data": {
            "image/png": "[encoded data removed]",
            "text/plain": [
              "<Figure size 432x288 with 1 Axes>"
            ]
          },
          "metadata": {
            "tags": [],
            "needs_background": "light"
          }
        }
      ]
    },
    {
      "cell_type": "code",
      "metadata": {
        "colab": {
          "base_uri": "https://localhost:8080/"
        },
        "id": "PMGMXII27dH5",
        "outputId": "a68d42b3-ef8b-4852-f58e-b1572e3cf2cb"
      },
      "source": [
        "train.Response.value_counts()"
      ],
      "execution_count": 185,
      "outputs": [
        {
          "output_type": "execute_result",
          "data": {
            "text/plain": [
              "0    38673\n",
              "1    12209\n",
              "Name: Response, dtype: int64"
            ]
          },
          "metadata": {
            "tags": []
          },
          "execution_count": 185
        }
      ]
    },
    {
      "cell_type": "code",
      "metadata": {
        "colab": {
          "base_uri": "https://localhost:8080/",
          "height": 269
        },
        "id": "MudyREoa7ncW",
        "outputId": "5625326c-3bbe-4107-8d2a-27339263eed1"
      },
      "source": [
        "sns.boxplot(y=\"Upper_Age\",data = train,palette='Accent')"
      ],
      "execution_count": 186,
      "outputs": [
        {
          "output_type": "execute_result",
          "data": {
            "text/plain": [
              "<matplotlib.axes._subplots.AxesSubplot at 0x7fbf2867c090>"
            ]
          },
          "metadata": {
            "tags": []
          },
          "execution_count": 186
        },
        {
          "output_type": "display_data",
          "data": {
            "image/png": "[encoded data removed]",
            "text/plain": [
              "<Figure size 432x288 with 1 Axes>"
            ]
          },
          "metadata": {
            "tags": [],
            "needs_background": "light"
          }
        }
      ]
    },
    {
      "cell_type": "code",
      "metadata": {
        "colab": {
          "base_uri": "https://localhost:8080/",
          "height": 269
        },
        "id": "-1kOACKd8RQL",
        "outputId": "68b0253b-5026-4189-ad1d-b3e4a8c99f1c"
      },
      "source": [
        "sns.boxplot(y=\"Upper_Age\",data = test,palette='Accent')"
      ],
      "execution_count": 187,
      "outputs": [
        {
          "output_type": "execute_result",
          "data": {
            "text/plain": [
              "<matplotlib.axes._subplots.AxesSubplot at 0x7fbf27858550>"
            ]
          },
          "metadata": {
            "tags": []
          },
          "execution_count": 187
        },
        {
          "output_type": "display_data",
          "data": {
            "image/png": "[encoded data removed]",
            "text/plain": [
              "<Figure size 432x288 with 1 Axes>"
            ]
          },
          "metadata": {
            "tags": [],
            "needs_background": "light"
          }
        }
      ]
    },
    {
      "cell_type": "code",
      "metadata": {
        "id": "fR_9ShGS_UZ8"
      },
      "source": [
        "df_upper=train.groupby(['Upper_Age','Response'])['ID'].count().to_frame().rename(columns={'ID':'count'}).reset_index()\r\n",
        "df_lower=train.groupby(['Lower_Age','Response'])['ID'].count().to_frame().rename(columns={'ID':'count'}).reset_index()"
      ],
      "execution_count": 625,
      "outputs": []
    },
    {
      "cell_type": "code",
      "metadata": {
        "colab": {
          "base_uri": "https://localhost:8080/",
          "height": 416
        },
        "id": "D8WNKPQD_gMA",
        "outputId": "d2b0935d-f7b9-4396-efb3-a9f0b90c59b3"
      },
      "source": [
        "df"
      ],
      "execution_count": 607,
      "outputs": [
        {
          "output_type": "execute_result",
          "data": {
            "text/html": [
              "<div>\n",
              "<style scoped>\n",
              "    .dataframe tbody tr th:only-of-type {\n",
              "        vertical-align: middle;\n",
              "    }\n",
              "\n",
              "    .dataframe tbody tr th {\n",
              "        vertical-align: top;\n",
              "    }\n",
              "\n",
              "    .dataframe thead th {\n",
              "        text-align: right;\n",
              "    }\n",
              "</style>\n",
              "<table border=\"1\" class=\"dataframe\">\n",
              "  <thead>\n",
              "    <tr style=\"text-align: right;\">\n",
              "      <th></th>\n",
              "      <th>Upper_Age</th>\n",
              "      <th>Response</th>\n",
              "      <th>count</th>\n",
              "    </tr>\n",
              "  </thead>\n",
              "  <tbody>\n",
              "    <tr>\n",
              "      <th>0</th>\n",
              "      <td>18</td>\n",
              "      <td>0</td>\n",
              "      <td>89</td>\n",
              "    </tr>\n",
              "    <tr>\n",
              "      <th>1</th>\n",
              "      <td>18</td>\n",
              "      <td>1</td>\n",
              "      <td>27</td>\n",
              "    </tr>\n",
              "    <tr>\n",
              "      <th>2</th>\n",
              "      <td>19</td>\n",
              "      <td>0</td>\n",
              "      <td>412</td>\n",
              "    </tr>\n",
              "    <tr>\n",
              "      <th>3</th>\n",
              "      <td>19</td>\n",
              "      <td>1</td>\n",
              "      <td>103</td>\n",
              "    </tr>\n",
              "    <tr>\n",
              "      <th>4</th>\n",
              "      <td>20</td>\n",
              "      <td>0</td>\n",
              "      <td>584</td>\n",
              "    </tr>\n",
              "    <tr>\n",
              "      <th>...</th>\n",
              "      <td>...</td>\n",
              "      <td>...</td>\n",
              "      <td>...</td>\n",
              "    </tr>\n",
              "    <tr>\n",
              "      <th>111</th>\n",
              "      <td>73</td>\n",
              "      <td>1</td>\n",
              "      <td>120</td>\n",
              "    </tr>\n",
              "    <tr>\n",
              "      <th>112</th>\n",
              "      <td>74</td>\n",
              "      <td>0</td>\n",
              "      <td>354</td>\n",
              "    </tr>\n",
              "    <tr>\n",
              "      <th>113</th>\n",
              "      <td>74</td>\n",
              "      <td>1</td>\n",
              "      <td>92</td>\n",
              "    </tr>\n",
              "    <tr>\n",
              "      <th>114</th>\n",
              "      <td>75</td>\n",
              "      <td>0</td>\n",
              "      <td>2275</td>\n",
              "    </tr>\n",
              "    <tr>\n",
              "      <th>115</th>\n",
              "      <td>75</td>\n",
              "      <td>1</td>\n",
              "      <td>707</td>\n",
              "    </tr>\n",
              "  </tbody>\n",
              "</table>\n",
              "<p>116 rows × 3 columns</p>\n",
              "</div>"
            ],
            "text/plain": [
              "     Upper_Age  Response  count\n",
              "0           18         0     89\n",
              "1           18         1     27\n",
              "2           19         0    412\n",
              "3           19         1    103\n",
              "4           20         0    584\n",
              "..         ...       ...    ...\n",
              "111         73         1    120\n",
              "112         74         0    354\n",
              "113         74         1     92\n",
              "114         75         0   2275\n",
              "115         75         1    707\n",
              "\n",
              "[116 rows x 3 columns]"
            ]
          },
          "metadata": {
            "tags": []
          },
          "execution_count": 607
        }
      ]
    },
    {
      "cell_type": "code",
      "metadata": {
        "colab": {
          "base_uri": "https://localhost:8080/",
          "height": 312
        },
        "id": "1dhNutWZ_x6X",
        "outputId": "3612a2c1-23a7-46f3-8268-15b3d1fd908f"
      },
      "source": [
        "sns.catplot(x=\"Upper_Age\", y=\"count\",col=\"Response\",\r\n",
        "                data=df, kind=\"bar\",\r\n",
        "                height=4, aspect=.7);"
      ],
      "execution_count": 610,
      "outputs": [
        {
          "output_type": "display_data",
          "data": {
            "image/png": "[encoded data removed]",
            "text/plain": [
              "<Figure size 403.2x288 with 2 Axes>"
            ]
          },
          "metadata": {
            "tags": [],
            "needs_background": "light"
          }
        }
      ]
    },
    {
      "cell_type": "code",
      "metadata": {
        "id": "nIjctBau_5aN"
      },
      "source": [
        "\r\n",
        "numerical_columns=['Upper_Age','Lower_Age','Holding_Policy_Duration','Reco_Policy_Premium']\r\n",
        "categorical_columns=['Accomodation_Type','Reco_Insurance_Type','Health Indicator','Is_Spouse','Holding_Policy_Type','Reco_Policy_Cat','Response']"
      ],
      "execution_count": 636,
      "outputs": []
    },
    {
      "cell_type": "code",
      "metadata": {
        "colab": {
          "base_uri": "https://localhost:8080/",
          "height": 432
        },
        "id": "yJiiHyQn81o0",
        "outputId": "d73994c0-84a3-49a5-8541-39c9827f7b2a"
      },
      "source": [
        "# normalization\r\n",
        "from sklearn.preprocessing import LabelEncoder, StandardScaler, MinMaxScaler, RobustScaler\r\n",
        "ss = StandardScaler()\r\n",
        "train[numerical_columns] = ss.fit_transform(train[numerical_columns])\r\n",
        "\r\n",
        "\r\n",
        "mm = MinMaxScaler()\r\n",
        "#['Reco_Policy_Premium']=train['Reco_Policy_Premium'].astype(float)\r\n",
        "mm = MinMaxScaler()\r\n",
        "train[['Reco_Policy_Premium']] = mm.fit_transform(train[['Reco_Policy_Premium']])\r\n",
        "\r\n",
        "\r\n",
        "\r\n",
        "\r\n",
        "le=LabelEncoder()\r\n",
        "train['City_Code']=le.fit(train['City_Code'])\r\n",
        "train['City_Code']=le.transform(train['City_Code'])\r\n",
        "\r\n",
        "\r\n",
        "\r\n",
        "\r\n",
        "\r\n",
        "\r\n",
        "\r\n"
      ],
      "execution_count": 652,
      "outputs": [
        {
          "output_type": "error",
          "ename": "ValueError",
          "evalue": "ignored",
          "traceback": [
            "\u001b[0;31m---------------------------------------------------------------------------\u001b[0m",
            "\u001b[0;31mKeyError\u001b[0m                                  Traceback (most recent call last)",
            "\u001b[0;32m/usr/local/lib/python3.7/dist-packages/sklearn/preprocessing/_label.py\u001b[0m in \u001b[0;36m_encode_python\u001b[0;34m(values, uniques, encode)\u001b[0m\n\u001b[1;32m     64\u001b[0m         \u001b[0;32mtry\u001b[0m\u001b[0;34m:\u001b[0m\u001b[0;34m\u001b[0m\u001b[0;34m\u001b[0m\u001b[0m\n\u001b[0;32m---> 65\u001b[0;31m             \u001b[0mencoded\u001b[0m \u001b[0;34m=\u001b[0m \u001b[0mnp\u001b[0m\u001b[0;34m.\u001b[0m\u001b[0marray\u001b[0m\u001b[0;34m(\u001b[0m\u001b[0;34m[\u001b[0m\u001b[0mtable\u001b[0m\u001b[0;34m[\u001b[0m\u001b[0mv\u001b[0m\u001b[0;34m]\u001b[0m \u001b[0;32mfor\u001b[0m \u001b[0mv\u001b[0m \u001b[0;32min\u001b[0m \u001b[0mvalues\u001b[0m\u001b[0;34m]\u001b[0m\u001b[0;34m)\u001b[0m\u001b[0;34m\u001b[0m\u001b[0;34m\u001b[0m\u001b[0m\n\u001b[0m\u001b[1;32m     66\u001b[0m         \u001b[0;32mexcept\u001b[0m \u001b[0mKeyError\u001b[0m \u001b[0;32mas\u001b[0m \u001b[0me\u001b[0m\u001b[0;34m:\u001b[0m\u001b[0;34m\u001b[0m\u001b[0;34m\u001b[0m\u001b[0m\n",
            "\u001b[0;32m/usr/local/lib/python3.7/dist-packages/sklearn/preprocessing/_label.py\u001b[0m in \u001b[0;36m<listcomp>\u001b[0;34m(.0)\u001b[0m\n\u001b[1;32m     64\u001b[0m         \u001b[0;32mtry\u001b[0m\u001b[0;34m:\u001b[0m\u001b[0;34m\u001b[0m\u001b[0;34m\u001b[0m\u001b[0m\n\u001b[0;32m---> 65\u001b[0;31m             \u001b[0mencoded\u001b[0m \u001b[0;34m=\u001b[0m \u001b[0mnp\u001b[0m\u001b[0;34m.\u001b[0m\u001b[0marray\u001b[0m\u001b[0;34m(\u001b[0m\u001b[0;34m[\u001b[0m\u001b[0mtable\u001b[0m\u001b[0;34m[\u001b[0m\u001b[0mv\u001b[0m\u001b[0;34m]\u001b[0m \u001b[0;32mfor\u001b[0m \u001b[0mv\u001b[0m \u001b[0;32min\u001b[0m \u001b[0mvalues\u001b[0m\u001b[0;34m]\u001b[0m\u001b[0;34m)\u001b[0m\u001b[0;34m\u001b[0m\u001b[0;34m\u001b[0m\u001b[0m\n\u001b[0m\u001b[1;32m     66\u001b[0m         \u001b[0;32mexcept\u001b[0m \u001b[0mKeyError\u001b[0m \u001b[0;32mas\u001b[0m \u001b[0me\u001b[0m\u001b[0;34m:\u001b[0m\u001b[0;34m\u001b[0m\u001b[0;34m\u001b[0m\u001b[0m\n",
            "\u001b[0;31mKeyError\u001b[0m: LabelEncoder()",
            "\nDuring handling of the above exception, another exception occurred:\n",
            "\u001b[0;31mValueError\u001b[0m                                Traceback (most recent call last)",
            "\u001b[0;32m<ipython-input-652-56a0d28291a7>\u001b[0m in \u001b[0;36m<module>\u001b[0;34m()\u001b[0m\n\u001b[1;32m     15\u001b[0m \u001b[0mle\u001b[0m\u001b[0;34m=\u001b[0m\u001b[0mLabelEncoder\u001b[0m\u001b[0;34m(\u001b[0m\u001b[0;34m)\u001b[0m\u001b[0;34m\u001b[0m\u001b[0;34m\u001b[0m\u001b[0m\n\u001b[1;32m     16\u001b[0m \u001b[0mtrain\u001b[0m\u001b[0;34m[\u001b[0m\u001b[0;34m'City_Code'\u001b[0m\u001b[0;34m]\u001b[0m\u001b[0;34m=\u001b[0m\u001b[0mle\u001b[0m\u001b[0;34m.\u001b[0m\u001b[0mfit\u001b[0m\u001b[0;34m(\u001b[0m\u001b[0mtrain\u001b[0m\u001b[0;34m[\u001b[0m\u001b[0;34m'City_Code'\u001b[0m\u001b[0;34m]\u001b[0m\u001b[0;34m)\u001b[0m\u001b[0;34m\u001b[0m\u001b[0;34m\u001b[0m\u001b[0m\n\u001b[0;32m---> 17\u001b[0;31m \u001b[0mtrain\u001b[0m\u001b[0;34m[\u001b[0m\u001b[0;34m'City_Code'\u001b[0m\u001b[0;34m]\u001b[0m\u001b[0;34m=\u001b[0m\u001b[0mle\u001b[0m\u001b[0;34m.\u001b[0m\u001b[0mtransform\u001b[0m\u001b[0;34m(\u001b[0m\u001b[0mtrain\u001b[0m\u001b[0;34m[\u001b[0m\u001b[0;34m'City_Code'\u001b[0m\u001b[0;34m]\u001b[0m\u001b[0;34m)\u001b[0m\u001b[0;34m\u001b[0m\u001b[0;34m\u001b[0m\u001b[0m\n\u001b[0m\u001b[1;32m     18\u001b[0m \u001b[0;34m\u001b[0m\u001b[0m\n\u001b[1;32m     19\u001b[0m \u001b[0;34m\u001b[0m\u001b[0m\n",
            "\u001b[0;32m/usr/local/lib/python3.7/dist-packages/sklearn/preprocessing/_label.py\u001b[0m in \u001b[0;36mtransform\u001b[0;34m(self, y)\u001b[0m\n\u001b[1;32m    271\u001b[0m             \u001b[0;32mreturn\u001b[0m \u001b[0mnp\u001b[0m\u001b[0;34m.\u001b[0m\u001b[0marray\u001b[0m\u001b[0;34m(\u001b[0m\u001b[0;34m[\u001b[0m\u001b[0;34m]\u001b[0m\u001b[0;34m)\u001b[0m\u001b[0;34m\u001b[0m\u001b[0;34m\u001b[0m\u001b[0m\n\u001b[1;32m    272\u001b[0m \u001b[0;34m\u001b[0m\u001b[0m\n\u001b[0;32m--> 273\u001b[0;31m         \u001b[0m_\u001b[0m\u001b[0;34m,\u001b[0m \u001b[0my\u001b[0m \u001b[0;34m=\u001b[0m \u001b[0m_encode\u001b[0m\u001b[0;34m(\u001b[0m\u001b[0my\u001b[0m\u001b[0;34m,\u001b[0m \u001b[0muniques\u001b[0m\u001b[0;34m=\u001b[0m\u001b[0mself\u001b[0m\u001b[0;34m.\u001b[0m\u001b[0mclasses_\u001b[0m\u001b[0;34m,\u001b[0m \u001b[0mencode\u001b[0m\u001b[0;34m=\u001b[0m\u001b[0;32mTrue\u001b[0m\u001b[0;34m)\u001b[0m\u001b[0;34m\u001b[0m\u001b[0;34m\u001b[0m\u001b[0m\n\u001b[0m\u001b[1;32m    274\u001b[0m         \u001b[0;32mreturn\u001b[0m \u001b[0my\u001b[0m\u001b[0;34m\u001b[0m\u001b[0;34m\u001b[0m\u001b[0m\n\u001b[1;32m    275\u001b[0m \u001b[0;34m\u001b[0m\u001b[0m\n",
            "\u001b[0;32m/usr/local/lib/python3.7/dist-packages/sklearn/preprocessing/_label.py\u001b[0m in \u001b[0;36m_encode\u001b[0;34m(values, uniques, encode, check_unknown)\u001b[0m\n\u001b[1;32m    110\u001b[0m     \u001b[0;32mif\u001b[0m \u001b[0mvalues\u001b[0m\u001b[0;34m.\u001b[0m\u001b[0mdtype\u001b[0m \u001b[0;34m==\u001b[0m \u001b[0mobject\u001b[0m\u001b[0;34m:\u001b[0m\u001b[0;34m\u001b[0m\u001b[0;34m\u001b[0m\u001b[0m\n\u001b[1;32m    111\u001b[0m         \u001b[0;32mtry\u001b[0m\u001b[0;34m:\u001b[0m\u001b[0;34m\u001b[0m\u001b[0;34m\u001b[0m\u001b[0m\n\u001b[0;32m--> 112\u001b[0;31m             \u001b[0mres\u001b[0m \u001b[0;34m=\u001b[0m \u001b[0m_encode_python\u001b[0m\u001b[0;34m(\u001b[0m\u001b[0mvalues\u001b[0m\u001b[0;34m,\u001b[0m \u001b[0muniques\u001b[0m\u001b[0;34m,\u001b[0m \u001b[0mencode\u001b[0m\u001b[0;34m)\u001b[0m\u001b[0;34m\u001b[0m\u001b[0;34m\u001b[0m\u001b[0m\n\u001b[0m\u001b[1;32m    113\u001b[0m         \u001b[0;32mexcept\u001b[0m \u001b[0mTypeError\u001b[0m\u001b[0;34m:\u001b[0m\u001b[0;34m\u001b[0m\u001b[0;34m\u001b[0m\u001b[0m\n\u001b[1;32m    114\u001b[0m             \u001b[0;32mraise\u001b[0m \u001b[0mTypeError\u001b[0m\u001b[0;34m(\u001b[0m\u001b[0;34m\"argument must be a string or number\"\u001b[0m\u001b[0;34m)\u001b[0m\u001b[0;34m\u001b[0m\u001b[0;34m\u001b[0m\u001b[0m\n",
            "\u001b[0;32m/usr/local/lib/python3.7/dist-packages/sklearn/preprocessing/_label.py\u001b[0m in \u001b[0;36m_encode_python\u001b[0;34m(values, uniques, encode)\u001b[0m\n\u001b[1;32m     66\u001b[0m         \u001b[0;32mexcept\u001b[0m \u001b[0mKeyError\u001b[0m \u001b[0;32mas\u001b[0m \u001b[0me\u001b[0m\u001b[0;34m:\u001b[0m\u001b[0;34m\u001b[0m\u001b[0;34m\u001b[0m\u001b[0m\n\u001b[1;32m     67\u001b[0m             raise ValueError(\"y contains previously unseen labels: %s\"\n\u001b[0;32m---> 68\u001b[0;31m                              % str(e))\n\u001b[0m\u001b[1;32m     69\u001b[0m         \u001b[0;32mreturn\u001b[0m \u001b[0muniques\u001b[0m\u001b[0;34m,\u001b[0m \u001b[0mencoded\u001b[0m\u001b[0;34m\u001b[0m\u001b[0;34m\u001b[0m\u001b[0m\n\u001b[1;32m     70\u001b[0m     \u001b[0;32melse\u001b[0m\u001b[0;34m:\u001b[0m\u001b[0;34m\u001b[0m\u001b[0;34m\u001b[0m\u001b[0m\n",
            "\u001b[0;31mValueError\u001b[0m: y contains previously unseen labels: LabelEncoder()"
          ]
        }
      ]
    },
    {
      "cell_type": "code",
      "metadata": {
        "id": "8NC4sH5HGHj8"
      },
      "source": [
        "le=LabelEncoder()\r\n",
        "le.fit(train['City_Code'])\r\n",
        "train['City_Code']=le.transform(train['City_Code'])\r\n",
        "\r\n"
      ],
      "execution_count": 665,
      "outputs": []
    },
    {
      "cell_type": "code",
      "metadata": {
        "id": "UhQ77m6tHjP1"
      },
      "source": [
        " train['Health Indicator']=le.fit_transform(train['Health Indicator'].astype(str)) "
      ],
      "execution_count": 675,
      "outputs": []
    },
    {
      "cell_type": "code",
      "metadata": {
        "colab": {
          "base_uri": "https://localhost:8080/"
        },
        "id": "XicD0CDMIcO8",
        "outputId": "859de055-5729-4e3f-c159-236106d89af7"
      },
      "source": [
        "train['Health Indicator'].dtype"
      ],
      "execution_count": 670,
      "outputs": [
        {
          "output_type": "execute_result",
          "data": {
            "text/plain": [
              "dtype('O')"
            ]
          },
          "metadata": {
            "tags": []
          },
          "execution_count": 670
        }
      ]
    },
    {
      "cell_type": "code",
      "metadata": {
        "id": "SqQ_-_ThJ8Br"
      },
      "source": [
        "train12=train.copy()"
      ],
      "execution_count": 706,
      "outputs": []
    },
    {
      "cell_type": "code",
      "metadata": {
        "id": "VNpHnRZuJyt_"
      },
      "source": [
        "m=pd.get_dummies(train12[\"Accomodation_Type\"],prefix='Accomodation',drop_first=False)\r\n",
        "n=pd.get_dummies(train12[\"Reco_Insurance_Type\"],prefix='reco_type',drop_first=False)\r\n",
        "o=pd.get_dummies(train12[\"Is_Spouse\"],prefix='Is_Spouse',drop_first=False)"
      ],
      "execution_count": 704,
      "outputs": []
    },
    {
      "cell_type": "code",
      "metadata": {
        "colab": {
          "base_uri": "https://localhost:8080/"
        },
        "id": "DNiDGI8WLgDu",
        "outputId": "a7377d64-f521-4fec-80a0-30d648c80dd6"
      },
      "source": [
        "train12.shape"
      ],
      "execution_count": 712,
      "outputs": [
        {
          "output_type": "execute_result",
          "data": {
            "text/plain": [
              "(50882, 13)"
            ]
          },
          "metadata": {
            "tags": []
          },
          "execution_count": 712
        }
      ]
    },
    {
      "cell_type": "code",
      "metadata": {
        "id": "3yaj29JYMCa0"
      },
      "source": [
        "ter=pd.DataFrame(pd.concat([m,n,o], axis=1))"
      ],
      "execution_count": 722,
      "outputs": []
    },
    {
      "cell_type": "code",
      "metadata": {
        "id": "x5GU2umGQ15S"
      },
      "source": [
        "train12=pd.DataFrame(pd.concat([ter,train12],axis=1))"
      ],
      "execution_count": 729,
      "outputs": []
    },
    {
      "cell_type": "code",
      "metadata": {
        "colab": {
          "base_uri": "https://localhost:8080/"
        },
        "id": "YdlqFjEDPmgB",
        "outputId": "3ef0d6e7-17e1-4fc5-c496-31113e2ac3e3"
      },
      "source": [
        "train12.isnull().sum()"
      ],
      "execution_count": 730,
      "outputs": [
        {
          "output_type": "execute_result",
          "data": {
            "text/plain": [
              "Accomodation_Owned         0\n",
              "Accomodation_Rented        0\n",
              "reco_type_Individual       0\n",
              "reco_type_Joint            0\n",
              "Is_Spouse_No               0\n",
              "Is_Spouse_Yes              0\n",
              "City_Code                  0\n",
              "Region_Code                0\n",
              "Accomodation_Type          0\n",
              "Reco_Insurance_Type        0\n",
              "Upper_Age                  0\n",
              "Lower_Age                  0\n",
              "Is_Spouse                  0\n",
              "Health Indicator           0\n",
              "Holding_Policy_Duration    0\n",
              "Holding_Policy_Type        0\n",
              "Reco_Policy_Cat            0\n",
              "Reco_Policy_Premium        0\n",
              "Response                   0\n",
              "dtype: int64"
            ]
          },
          "metadata": {
            "tags": []
          },
          "execution_count": 730
        }
      ]
    },
    {
      "cell_type": "code",
      "metadata": {
        "id": "qiGBMbiUCuzp"
      },
      "source": [
        "train12.drop(['Accomodation_Type','Is_Spouse','Reco_Insurance_Type'],axis=1,inplace=True)"
      ],
      "execution_count": 735,
      "outputs": []
    },
    {
      "cell_type": "code",
      "metadata": {
        "colab": {
          "base_uri": "https://localhost:8080/",
          "height": 453
        },
        "id": "Q2x6sQ3qE6zy",
        "outputId": "aee947e2-e964-4ede-c75a-94b6ec621bc7"
      },
      "source": [
        "train12"
      ],
      "execution_count": 736,
      "outputs": [
        {
          "output_type": "execute_result",
          "data": {
            "text/html": [
              "<div>\n",
              "<style scoped>\n",
              "    .dataframe tbody tr th:only-of-type {\n",
              "        vertical-align: middle;\n",
              "    }\n",
              "\n",
              "    .dataframe tbody tr th {\n",
              "        vertical-align: top;\n",
              "    }\n",
              "\n",
              "    .dataframe thead th {\n",
              "        text-align: right;\n",
              "    }\n",
              "</style>\n",
              "<table border=\"1\" class=\"dataframe\">\n",
              "  <thead>\n",
              "    <tr style=\"text-align: right;\">\n",
              "      <th></th>\n",
              "      <th>Accomodation_Owned</th>\n",
              "      <th>Accomodation_Rented</th>\n",
              "      <th>reco_type_Individual</th>\n",
              "      <th>reco_type_Joint</th>\n",
              "      <th>Is_Spouse_No</th>\n",
              "      <th>Is_Spouse_Yes</th>\n",
              "      <th>City_Code</th>\n",
              "      <th>Region_Code</th>\n",
              "      <th>Upper_Age</th>\n",
              "      <th>Lower_Age</th>\n",
              "      <th>Health Indicator</th>\n",
              "      <th>Holding_Policy_Duration</th>\n",
              "      <th>Holding_Policy_Type</th>\n",
              "      <th>Reco_Policy_Cat</th>\n",
              "      <th>Reco_Policy_Premium</th>\n",
              "      <th>Response</th>\n",
              "    </tr>\n",
              "  </thead>\n",
              "  <tbody>\n",
              "    <tr>\n",
              "      <th>0</th>\n",
              "      <td>0</td>\n",
              "      <td>1</td>\n",
              "      <td>1</td>\n",
              "      <td>0</td>\n",
              "      <td>1</td>\n",
              "      <td>0</td>\n",
              "      <td>22</td>\n",
              "      <td>3213</td>\n",
              "      <td>36</td>\n",
              "      <td>36</td>\n",
              "      <td>0</td>\n",
              "      <td>14.000000</td>\n",
              "      <td>3.000000</td>\n",
              "      <td>22</td>\n",
              "      <td>11628.0</td>\n",
              "      <td>0</td>\n",
              "    </tr>\n",
              "    <tr>\n",
              "      <th>1</th>\n",
              "      <td>1</td>\n",
              "      <td>0</td>\n",
              "      <td>0</td>\n",
              "      <td>1</td>\n",
              "      <td>1</td>\n",
              "      <td>0</td>\n",
              "      <td>31</td>\n",
              "      <td>1117</td>\n",
              "      <td>75</td>\n",
              "      <td>22</td>\n",
              "      <td>1</td>\n",
              "      <td>6.015246</td>\n",
              "      <td>2.439228</td>\n",
              "      <td>22</td>\n",
              "      <td>30510.0</td>\n",
              "      <td>0</td>\n",
              "    </tr>\n",
              "    <tr>\n",
              "      <th>2</th>\n",
              "      <td>1</td>\n",
              "      <td>0</td>\n",
              "      <td>1</td>\n",
              "      <td>0</td>\n",
              "      <td>1</td>\n",
              "      <td>0</td>\n",
              "      <td>31</td>\n",
              "      <td>3732</td>\n",
              "      <td>32</td>\n",
              "      <td>32</td>\n",
              "      <td>9</td>\n",
              "      <td>1.000000</td>\n",
              "      <td>1.000000</td>\n",
              "      <td>19</td>\n",
              "      <td>7450.0</td>\n",
              "      <td>1</td>\n",
              "    </tr>\n",
              "    <tr>\n",
              "      <th>3</th>\n",
              "      <td>1</td>\n",
              "      <td>0</td>\n",
              "      <td>0</td>\n",
              "      <td>1</td>\n",
              "      <td>1</td>\n",
              "      <td>0</td>\n",
              "      <td>16</td>\n",
              "      <td>4378</td>\n",
              "      <td>52</td>\n",
              "      <td>48</td>\n",
              "      <td>0</td>\n",
              "      <td>14.000000</td>\n",
              "      <td>3.000000</td>\n",
              "      <td>19</td>\n",
              "      <td>17780.0</td>\n",
              "      <td>0</td>\n",
              "    </tr>\n",
              "    <tr>\n",
              "      <th>4</th>\n",
              "      <td>0</td>\n",
              "      <td>1</td>\n",
              "      <td>1</td>\n",
              "      <td>0</td>\n",
              "      <td>1</td>\n",
              "      <td>0</td>\n",
              "      <td>34</td>\n",
              "      <td>2190</td>\n",
              "      <td>44</td>\n",
              "      <td>44</td>\n",
              "      <td>1</td>\n",
              "      <td>3.000000</td>\n",
              "      <td>1.000000</td>\n",
              "      <td>16</td>\n",
              "      <td>10404.0</td>\n",
              "      <td>0</td>\n",
              "    </tr>\n",
              "    <tr>\n",
              "      <th>...</th>\n",
              "      <td>...</td>\n",
              "      <td>...</td>\n",
              "      <td>...</td>\n",
              "      <td>...</td>\n",
              "      <td>...</td>\n",
              "      <td>...</td>\n",
              "      <td>...</td>\n",
              "      <td>...</td>\n",
              "      <td>...</td>\n",
              "      <td>...</td>\n",
              "      <td>...</td>\n",
              "      <td>...</td>\n",
              "      <td>...</td>\n",
              "      <td>...</td>\n",
              "      <td>...</td>\n",
              "      <td>...</td>\n",
              "    </tr>\n",
              "    <tr>\n",
              "      <th>50877</th>\n",
              "      <td>0</td>\n",
              "      <td>1</td>\n",
              "      <td>1</td>\n",
              "      <td>0</td>\n",
              "      <td>1</td>\n",
              "      <td>0</td>\n",
              "      <td>30</td>\n",
              "      <td>845</td>\n",
              "      <td>22</td>\n",
              "      <td>22</td>\n",
              "      <td>2</td>\n",
              "      <td>6.015246</td>\n",
              "      <td>2.439228</td>\n",
              "      <td>18</td>\n",
              "      <td>7704.0</td>\n",
              "      <td>0</td>\n",
              "    </tr>\n",
              "    <tr>\n",
              "      <th>50878</th>\n",
              "      <td>0</td>\n",
              "      <td>1</td>\n",
              "      <td>1</td>\n",
              "      <td>0</td>\n",
              "      <td>1</td>\n",
              "      <td>0</td>\n",
              "      <td>31</td>\n",
              "      <td>4188</td>\n",
              "      <td>27</td>\n",
              "      <td>27</td>\n",
              "      <td>2</td>\n",
              "      <td>7.000000</td>\n",
              "      <td>3.000000</td>\n",
              "      <td>4</td>\n",
              "      <td>5408.0</td>\n",
              "      <td>0</td>\n",
              "    </tr>\n",
              "    <tr>\n",
              "      <th>50879</th>\n",
              "      <td>0</td>\n",
              "      <td>1</td>\n",
              "      <td>1</td>\n",
              "      <td>0</td>\n",
              "      <td>1</td>\n",
              "      <td>0</td>\n",
              "      <td>0</td>\n",
              "      <td>442</td>\n",
              "      <td>63</td>\n",
              "      <td>63</td>\n",
              "      <td>1</td>\n",
              "      <td>14.000000</td>\n",
              "      <td>1.000000</td>\n",
              "      <td>12</td>\n",
              "      <td>11374.0</td>\n",
              "      <td>0</td>\n",
              "    </tr>\n",
              "    <tr>\n",
              "      <th>50880</th>\n",
              "      <td>1</td>\n",
              "      <td>0</td>\n",
              "      <td>0</td>\n",
              "      <td>1</td>\n",
              "      <td>1</td>\n",
              "      <td>0</td>\n",
              "      <td>0</td>\n",
              "      <td>4</td>\n",
              "      <td>71</td>\n",
              "      <td>49</td>\n",
              "      <td>1</td>\n",
              "      <td>2.000000</td>\n",
              "      <td>2.000000</td>\n",
              "      <td>16</td>\n",
              "      <td>28179.2</td>\n",
              "      <td>1</td>\n",
              "    </tr>\n",
              "    <tr>\n",
              "      <th>50881</th>\n",
              "      <td>0</td>\n",
              "      <td>1</td>\n",
              "      <td>1</td>\n",
              "      <td>0</td>\n",
              "      <td>1</td>\n",
              "      <td>0</td>\n",
              "      <td>22</td>\n",
              "      <td>3866</td>\n",
              "      <td>24</td>\n",
              "      <td>24</td>\n",
              "      <td>2</td>\n",
              "      <td>2.000000</td>\n",
              "      <td>3.000000</td>\n",
              "      <td>18</td>\n",
              "      <td>11424.0</td>\n",
              "      <td>0</td>\n",
              "    </tr>\n",
              "  </tbody>\n",
              "</table>\n",
              "<p>50882 rows × 16 columns</p>\n",
              "</div>"
            ],
            "text/plain": [
              "       Accomodation_Owned  Accomodation_Rented  ...  Reco_Policy_Premium  Response\n",
              "0                       0                    1  ...              11628.0         0\n",
              "1                       1                    0  ...              30510.0         0\n",
              "2                       1                    0  ...               7450.0         1\n",
              "3                       1                    0  ...              17780.0         0\n",
              "4                       0                    1  ...              10404.0         0\n",
              "...                   ...                  ...  ...                  ...       ...\n",
              "50877                   0                    1  ...               7704.0         0\n",
              "50878                   0                    1  ...               5408.0         0\n",
              "50879                   0                    1  ...              11374.0         0\n",
              "50880                   1                    0  ...              28179.2         1\n",
              "50881                   0                    1  ...              11424.0         0\n",
              "\n",
              "[50882 rows x 16 columns]"
            ]
          },
          "metadata": {
            "tags": []
          },
          "execution_count": 736
        }
      ]
    },
    {
      "cell_type": "code",
      "metadata": {
        "id": "aKZs0_h0HHmS"
      },
      "source": [
        ""
      ],
      "execution_count": null,
      "outputs": []
    },
    {
      "cell_type": "code",
      "metadata": {
        "id": "gbuv98saD9mv"
      },
      "source": [
        "from sklearn.model_selection import train_test_split\r\n",
        "\r\n",
        "train_target=train12['Response']\r\n",
        "train_feat=train12.drop(['Response'], axis = 1)\r\n",
        "x_train,x_test,y_train,y_test = train_test_split(train_feat,train_target, random_state = 0)"
      ],
      "execution_count": 737,
      "outputs": []
    },
    {
      "cell_type": "code",
      "metadata": {
        "colab": {
          "base_uri": "https://localhost:8080/"
        },
        "id": "dZoOuQZhEWJ2",
        "outputId": "7df0341b-87a1-4a89-e0bb-a14a63a0195f"
      },
      "source": [
        "x_train.columns"
      ],
      "execution_count": 738,
      "outputs": [
        {
          "output_type": "execute_result",
          "data": {
            "text/plain": [
              "Index(['Accomodation_Owned', 'Accomodation_Rented', 'reco_type_Individual',\n",
              "       'reco_type_Joint', 'Is_Spouse_No', 'Is_Spouse_Yes', 'City_Code',\n",
              "       'Region_Code', 'Upper_Age', 'Lower_Age', 'Health Indicator',\n",
              "       'Holding_Policy_Duration', 'Holding_Policy_Type', 'Reco_Policy_Cat',\n",
              "       'Reco_Policy_Premium'],\n",
              "      dtype='object')"
            ]
          },
          "metadata": {
            "tags": []
          },
          "execution_count": 738
        }
      ]
    },
    {
      "cell_type": "code",
      "metadata": {
        "colab": {
          "base_uri": "https://localhost:8080/"
        },
        "id": "yX96sLpiEejk",
        "outputId": "725e6883-1154-41b2-e9d2-85e32375f3f0"
      },
      "source": [
        "x_train.isnull().sum()"
      ],
      "execution_count": 739,
      "outputs": [
        {
          "output_type": "execute_result",
          "data": {
            "text/plain": [
              "Accomodation_Owned         0\n",
              "Accomodation_Rented        0\n",
              "reco_type_Individual       0\n",
              "reco_type_Joint            0\n",
              "Is_Spouse_No               0\n",
              "Is_Spouse_Yes              0\n",
              "City_Code                  0\n",
              "Region_Code                0\n",
              "Upper_Age                  0\n",
              "Lower_Age                  0\n",
              "Health Indicator           0\n",
              "Holding_Policy_Duration    0\n",
              "Holding_Policy_Type        0\n",
              "Reco_Policy_Cat            0\n",
              "Reco_Policy_Premium        0\n",
              "dtype: int64"
            ]
          },
          "metadata": {
            "tags": []
          },
          "execution_count": 739
        }
      ]
    },
    {
      "cell_type": "code",
      "metadata": {
        "colab": {
          "base_uri": "https://localhost:8080/"
        },
        "id": "mQ5oLYLCWSSF",
        "outputId": "96425948-9d10-48c3-dba3-49f1aa62a113"
      },
      "source": [
        "%%time\r\n",
        "\r\n",
        "# possible values of parameters\r\n",
        "space={'n_estimators': hp.quniform('n_estimators', 100, 200, 1),\r\n",
        "       'max_depth' : hp.quniform('max_depth', 2, 8, 1),\r\n",
        "       'learning_rate': hp.loguniform(\"learning_rate\",-4,-1),\r\n",
        "        'gamma': hp.quniform('gamma',0.1,0.5,0.1),\r\n",
        "        'reg_alpha' : hp.quniform('reg_alpha',1.1,1.5,0.1),\r\n",
        "        'reg_lambda' : hp.uniform('reg_lambda',1.1,1.5),\r\n",
        "        'colsample_bytree' : hp.uniform('colsample_bytree', 0.1,0.5),\r\n",
        "        'min_child_weight' : hp.quniform('min_child_weight', 0, 10, 1),\r\n",
        "      }\r\n",
        "\r\n",
        "# trials will contain logging information\r\n",
        "trials = Trials()\r\n",
        "\r\n",
        "best=fmin(fn=gb_mse_cv, # function to optimize\r\n",
        "          space=space, \r\n",
        "          algo=tpe.suggest, # optimization algorithm, hyperotp will select its parameters automatically\r\n",
        "          max_evals=n_iter, # maximum number of iterations\r\n",
        "          trials=trials, # logging\r\n",
        "          rstate=np.random.RandomState(random_state) # fixing random state for the reproducibility\r\n",
        "         )\r\n",
        "\r\n",
        "# computing the score on the test set\r\n",
        "model = lgb.LGBMClassifier(random_state=random_state, n_estimators=int(best['n_estimators']),\r\n",
        "                           max_depth=int(best['max_depth']),learning_rate=best['learning_rate'],gamma=best['gamma'],\r\n",
        "                           reg_alpha=best['reg_alpha'],reg_lambda=best['reg_lambda'],colsample_bytree=best['colsample_bytree'],\r\n",
        "                           min_child_weight=best['min_child_weight'])\r\n",
        "model.fit(x_train,y_train)\r\n",
        "\r\n",
        "preds = [pred[1] for pred in model.predict_proba(x_test)]\r\n",
        "score = roc_auc_score(y_test, preds, average = 'weighted')"
      ],
      "execution_count": 808,
      "outputs": [
        {
          "output_type": "stream",
          "text": [
            "100%|██████████| 50/50 [00:40<00:00,  1.23it/s, best loss: -0.6439517438270514]\n",
            "CPU times: user 2.95 s, sys: 284 ms, total: 3.23 s\n",
            "Wall time: 41.3 s\n"
          ],
          "name": "stdout"
        }
      ]
    },
    {
      "cell_type": "code",
      "metadata": {
        "colab": {
          "base_uri": "https://localhost:8080/"
        },
        "id": "8eHKjrYVWeNW",
        "outputId": "b0b3e058-08a7-4f40-a88c-a6baf81bb5cd"
      },
      "source": [
        "best"
      ],
      "execution_count": 770,
      "outputs": [
        {
          "output_type": "execute_result",
          "data": {
            "text/plain": [
              "{'colsample_bytree': 0.42974333016262134,\n",
              " 'gamma': 0.5,\n",
              " 'learning_rate': 0.08754407895812726,\n",
              " 'max_depth': 6.0,\n",
              " 'min_child_weight': 10.0,\n",
              " 'n_estimators': 198.0,\n",
              " 'reg_alpha': 1.1,\n",
              " 'reg_lambda': 1.1001410913420813}"
            ]
          },
          "metadata": {
            "tags": []
          },
          "execution_count": 770
        }
      ]
    },
    {
      "cell_type": "code",
      "metadata": {
        "colab": {
          "base_uri": "https://localhost:8080/"
        },
        "id": "s6BUIzfYWlQ3",
        "outputId": "62016f18-1d3b-4483-e810-577b76ec51ed"
      },
      "source": [
        "print(\"auc-roc score on Test data\",score)"
      ],
      "execution_count": 771,
      "outputs": [
        {
          "output_type": "stream",
          "text": [
            "auc-roc score on Test data 0.6531024263176758\n"
          ],
          "name": "stdout"
        }
      ]
    },
    {
      "cell_type": "code",
      "metadata": {
        "colab": {
          "base_uri": "https://localhost:8080/",
          "height": 312
        },
        "id": "u6o9QFrUWrbP",
        "outputId": "671e1076-57fc-4efb-d4cc-ecb35be30f9b"
      },
      "source": [
        "y_score = model.predict_proba(x_test)[:,1]\r\n",
        "fpr, tpr, _ = roc_curve(y_test, y_score)\r\n",
        "\r\n",
        "title('LGBM ROC curve')\r\n",
        "xlabel('FPR (Precision)')\r\n",
        "ylabel('TPR (Recall)')\r\n",
        "\r\n",
        "plot(fpr,tpr)\r\n",
        "plot((0,1), ls='dashed',color='black')\r\n",
        "plt.show()\r\n",
        "print ('Area under curve (AUC): ', auc(fpr,tpr))"
      ],
      "execution_count": 784,
      "outputs": [
        {
          "output_type": "display_data",
          "data": {
            "image/png": "[encoded data removed]",
            "text/plain": [
              "<Figure size 432x288 with 1 Axes>"
            ]
          },
          "metadata": {
            "tags": [],
            "needs_background": "light"
          }
        },
        {
          "output_type": "stream",
          "text": [
            "Area under curve (AUC):  0.6531024263176758\n"
          ],
          "name": "stdout"
        }
      ]
    },
    {
      "cell_type": "code",
      "metadata": {
        "colab": {
          "base_uri": "https://localhost:8080/",
          "height": 453
        },
        "id": "gGMB0-Ervt-H",
        "outputId": "5a8c393f-87c9-45da-89fa-df91ce6895d8"
      },
      "source": [
        "test"
      ],
      "execution_count": 793,
      "outputs": [
        {
          "output_type": "execute_result",
          "data": {
            "text/html": [
              "<div>\n",
              "<style scoped>\n",
              "    .dataframe tbody tr th:only-of-type {\n",
              "        vertical-align: middle;\n",
              "    }\n",
              "\n",
              "    .dataframe tbody tr th {\n",
              "        vertical-align: top;\n",
              "    }\n",
              "\n",
              "    .dataframe thead th {\n",
              "        text-align: right;\n",
              "    }\n",
              "</style>\n",
              "<table border=\"1\" class=\"dataframe\">\n",
              "  <thead>\n",
              "    <tr style=\"text-align: right;\">\n",
              "      <th></th>\n",
              "      <th>ID</th>\n",
              "      <th>City_Code</th>\n",
              "      <th>Region_Code</th>\n",
              "      <th>Accomodation_Type</th>\n",
              "      <th>Reco_Insurance_Type</th>\n",
              "      <th>Upper_Age</th>\n",
              "      <th>Lower_Age</th>\n",
              "      <th>Is_Spouse</th>\n",
              "      <th>Health Indicator</th>\n",
              "      <th>Holding_Policy_Duration</th>\n",
              "      <th>Holding_Policy_Type</th>\n",
              "      <th>Reco_Policy_Cat</th>\n",
              "      <th>Reco_Policy_Premium</th>\n",
              "    </tr>\n",
              "  </thead>\n",
              "  <tbody>\n",
              "    <tr>\n",
              "      <th>0</th>\n",
              "      <td>50883</td>\n",
              "      <td>C1</td>\n",
              "      <td>156</td>\n",
              "      <td>Owned</td>\n",
              "      <td>Individual</td>\n",
              "      <td>30</td>\n",
              "      <td>30</td>\n",
              "      <td>No</td>\n",
              "      <td>NaN</td>\n",
              "      <td>6.0</td>\n",
              "      <td>3.0</td>\n",
              "      <td>5</td>\n",
              "      <td>11934.0</td>\n",
              "    </tr>\n",
              "    <tr>\n",
              "      <th>1</th>\n",
              "      <td>50884</td>\n",
              "      <td>C4</td>\n",
              "      <td>7</td>\n",
              "      <td>Owned</td>\n",
              "      <td>Joint</td>\n",
              "      <td>69</td>\n",
              "      <td>68</td>\n",
              "      <td>Yes</td>\n",
              "      <td>X1</td>\n",
              "      <td>3.0</td>\n",
              "      <td>3.0</td>\n",
              "      <td>18</td>\n",
              "      <td>32204.8</td>\n",
              "    </tr>\n",
              "    <tr>\n",
              "      <th>2</th>\n",
              "      <td>50885</td>\n",
              "      <td>C1</td>\n",
              "      <td>564</td>\n",
              "      <td>Rented</td>\n",
              "      <td>Individual</td>\n",
              "      <td>28</td>\n",
              "      <td>28</td>\n",
              "      <td>No</td>\n",
              "      <td>X3</td>\n",
              "      <td>2.0</td>\n",
              "      <td>4.0</td>\n",
              "      <td>17</td>\n",
              "      <td>9240.0</td>\n",
              "    </tr>\n",
              "    <tr>\n",
              "      <th>3</th>\n",
              "      <td>50886</td>\n",
              "      <td>C3</td>\n",
              "      <td>1177</td>\n",
              "      <td>Rented</td>\n",
              "      <td>Individual</td>\n",
              "      <td>23</td>\n",
              "      <td>23</td>\n",
              "      <td>No</td>\n",
              "      <td>X3</td>\n",
              "      <td>3.0</td>\n",
              "      <td>3.0</td>\n",
              "      <td>18</td>\n",
              "      <td>9086.0</td>\n",
              "    </tr>\n",
              "    <tr>\n",
              "      <th>4</th>\n",
              "      <td>50887</td>\n",
              "      <td>C1</td>\n",
              "      <td>951</td>\n",
              "      <td>Owned</td>\n",
              "      <td>Individual</td>\n",
              "      <td>75</td>\n",
              "      <td>75</td>\n",
              "      <td>No</td>\n",
              "      <td>X3</td>\n",
              "      <td>NaN</td>\n",
              "      <td>NaN</td>\n",
              "      <td>5</td>\n",
              "      <td>22534.0</td>\n",
              "    </tr>\n",
              "    <tr>\n",
              "      <th>...</th>\n",
              "      <td>...</td>\n",
              "      <td>...</td>\n",
              "      <td>...</td>\n",
              "      <td>...</td>\n",
              "      <td>...</td>\n",
              "      <td>...</td>\n",
              "      <td>...</td>\n",
              "      <td>...</td>\n",
              "      <td>...</td>\n",
              "      <td>...</td>\n",
              "      <td>...</td>\n",
              "      <td>...</td>\n",
              "      <td>...</td>\n",
              "    </tr>\n",
              "    <tr>\n",
              "      <th>21800</th>\n",
              "      <td>72683</td>\n",
              "      <td>C3</td>\n",
              "      <td>1044</td>\n",
              "      <td>Owned</td>\n",
              "      <td>Individual</td>\n",
              "      <td>45</td>\n",
              "      <td>45</td>\n",
              "      <td>No</td>\n",
              "      <td>X1</td>\n",
              "      <td>4.0</td>\n",
              "      <td>1.0</td>\n",
              "      <td>18</td>\n",
              "      <td>15884.0</td>\n",
              "    </tr>\n",
              "    <tr>\n",
              "      <th>21801</th>\n",
              "      <td>72684</td>\n",
              "      <td>C4</td>\n",
              "      <td>266</td>\n",
              "      <td>Owned</td>\n",
              "      <td>Individual</td>\n",
              "      <td>59</td>\n",
              "      <td>59</td>\n",
              "      <td>No</td>\n",
              "      <td>X5</td>\n",
              "      <td>6.0</td>\n",
              "      <td>3.0</td>\n",
              "      <td>18</td>\n",
              "      <td>21390.0</td>\n",
              "    </tr>\n",
              "    <tr>\n",
              "      <th>21802</th>\n",
              "      <td>72685</td>\n",
              "      <td>C12</td>\n",
              "      <td>2470</td>\n",
              "      <td>Owned</td>\n",
              "      <td>Individual</td>\n",
              "      <td>74</td>\n",
              "      <td>74</td>\n",
              "      <td>No</td>\n",
              "      <td>X3</td>\n",
              "      <td>NaN</td>\n",
              "      <td>NaN</td>\n",
              "      <td>1</td>\n",
              "      <td>17836.0</td>\n",
              "    </tr>\n",
              "    <tr>\n",
              "      <th>21803</th>\n",
              "      <td>72686</td>\n",
              "      <td>C10</td>\n",
              "      <td>1676</td>\n",
              "      <td>Rented</td>\n",
              "      <td>Individual</td>\n",
              "      <td>25</td>\n",
              "      <td>25</td>\n",
              "      <td>No</td>\n",
              "      <td>X4</td>\n",
              "      <td>3.0</td>\n",
              "      <td>1.0</td>\n",
              "      <td>19</td>\n",
              "      <td>11568.0</td>\n",
              "    </tr>\n",
              "    <tr>\n",
              "      <th>21804</th>\n",
              "      <td>72687</td>\n",
              "      <td>C2</td>\n",
              "      <td>3617</td>\n",
              "      <td>Owned</td>\n",
              "      <td>Individual</td>\n",
              "      <td>73</td>\n",
              "      <td>73</td>\n",
              "      <td>No</td>\n",
              "      <td>X2</td>\n",
              "      <td>14+</td>\n",
              "      <td>2.0</td>\n",
              "      <td>3</td>\n",
              "      <td>23040.0</td>\n",
              "    </tr>\n",
              "  </tbody>\n",
              "</table>\n",
              "<p>21805 rows × 13 columns</p>\n",
              "</div>"
            ],
            "text/plain": [
              "          ID City_Code  ...  Reco_Policy_Cat Reco_Policy_Premium\n",
              "0      50883        C1  ...                5             11934.0\n",
              "1      50884        C4  ...               18             32204.8\n",
              "2      50885        C1  ...               17              9240.0\n",
              "3      50886        C3  ...               18              9086.0\n",
              "4      50887        C1  ...                5             22534.0\n",
              "...      ...       ...  ...              ...                 ...\n",
              "21800  72683        C3  ...               18             15884.0\n",
              "21801  72684        C4  ...               18             21390.0\n",
              "21802  72685       C12  ...                1             17836.0\n",
              "21803  72686       C10  ...               19             11568.0\n",
              "21804  72687        C2  ...                3             23040.0\n",
              "\n",
              "[21805 rows x 13 columns]"
            ]
          },
          "metadata": {
            "tags": []
          },
          "execution_count": 793
        }
      ]
    },
    {
      "cell_type": "code",
      "metadata": {
        "colab": {
          "base_uri": "https://localhost:8080/"
        },
        "id": "ePnVZWhTZgpv",
        "outputId": "1390c8fc-fe53-41e3-f50b-622ef40936e8"
      },
      "source": [
        "test.isnull().sum()"
      ],
      "execution_count": 794,
      "outputs": [
        {
          "output_type": "execute_result",
          "data": {
            "text/plain": [
              "ID                            0\n",
              "City_Code                     0\n",
              "Region_Code                   0\n",
              "Accomodation_Type             0\n",
              "Reco_Insurance_Type           0\n",
              "Upper_Age                     0\n",
              "Lower_Age                     0\n",
              "Is_Spouse                     0\n",
              "Health Indicator           5027\n",
              "Holding_Policy_Duration    8603\n",
              "Holding_Policy_Type        8603\n",
              "Reco_Policy_Cat               0\n",
              "Reco_Policy_Premium           0\n",
              "dtype: int64"
            ]
          },
          "metadata": {
            "tags": []
          },
          "execution_count": 794
        }
      ]
    },
    {
      "cell_type": "code",
      "metadata": {
        "colab": {
          "base_uri": "https://localhost:8080/"
        },
        "id": "7AlUIfziZlRr",
        "outputId": "df67752b-46b8-4a7b-e683-6283e61436a5"
      },
      "source": [
        "imputer = KNNImputer(n_neighbors=5, weights='uniform', metric='nan_euclidean')\r\n",
        "imputer.fit(test['Holding_Policy_Type'].values.reshape(-1,1))\r\n",
        "#1\r\n",
        "test['Holding_Policy_Type']=imputer.transform(test['Holding_Policy_Type'].values.reshape(-1,1))\r\n",
        "percent_null_values(test['Holding_Policy_Type'])\r\n",
        "#2\r\n",
        "test['Holding_Policy_Duration']=test['Holding_Policy_Duration'].astype(str).replace(\"14+\",\"14\")\r\n",
        "test['Holding_Policy_Duration']=test['Holding_Policy_Duration'].astype(float)\r\n",
        "imputer.fit(test['Holding_Policy_Duration'].values.reshape(-1,1))\r\n",
        "test['Holding_Policy_Duration']=imputer.transform(test['Holding_Policy_Duration'].values.reshape(-1,1))\r\n",
        "percent_null_values(test['Holding_Policy_Duration'])"
      ],
      "execution_count": 795,
      "outputs": [
        {
          "output_type": "stream",
          "text": [
            "0.0 %\n",
            "0.0 %\n"
          ],
          "name": "stdout"
        }
      ]
    },
    {
      "cell_type": "code",
      "metadata": {
        "id": "Ol0mPMIwZyXA"
      },
      "source": [
        "# normalization\r\n",
        "from sklearn.preprocessing import LabelEncoder, StandardScaler, MinMaxScaler, RobustScaler\r\n",
        "ss = StandardScaler()\r\n",
        "test[numerical_columns] = ss.fit_transform(test[numerical_columns])\r\n",
        "\r\n",
        "\r\n",
        "mm = MinMaxScaler()\r\n",
        "#['Reco_Policy_Premium']=train['Reco_Policy_Premium'].astype(float)\r\n",
        "mm = MinMaxScaler()\r\n",
        "test[['Reco_Policy_Premium']] = mm.fit_transform(test[['Reco_Policy_Premium']])\r\n",
        "\r\n",
        "\r\n",
        "\r\n"
      ],
      "execution_count": 797,
      "outputs": []
    },
    {
      "cell_type": "code",
      "metadata": {
        "id": "b3fvYsyYaDq7"
      },
      "source": [
        "le=LabelEncoder()\r\n",
        "le.fit(test['City_Code'])\r\n",
        "test['City_Code']=le.transform(test['City_Code'])"
      ],
      "execution_count": 798,
      "outputs": []
    },
    {
      "cell_type": "code",
      "metadata": {
        "id": "zAcCqtw-aTie"
      },
      "source": [
        "train['Health Indicator']=le.fit_transform(train['Health Indicator'].astype(str))"
      ],
      "execution_count": 799,
      "outputs": []
    },
    {
      "cell_type": "code",
      "metadata": {
        "id": "fsZlglnJabkx"
      },
      "source": [
        "m=pd.get_dummies(test[\"Accomodation_Type\"],prefix='Accomodation',drop_first=False)\r\n",
        "n=pd.get_dummies(test[\"Reco_Insurance_Type\"],prefix='reco_type',drop_first=False)\r\n",
        "o=pd.get_dummies(test[\"Is_Spouse\"],prefix='Is_Spouse',drop_first=False)"
      ],
      "execution_count": 800,
      "outputs": []
    },
    {
      "cell_type": "code",
      "metadata": {
        "id": "bcvLNGzkam-c"
      },
      "source": [
        "ter=pd.DataFrame(pd.concat([m,n,o], axis=1))"
      ],
      "execution_count": 801,
      "outputs": []
    },
    {
      "cell_type": "code",
      "metadata": {
        "id": "MUvQNt35aslw"
      },
      "source": [
        "test22=pd.DataFrame(pd.concat([ter,test],axis=1))"
      ],
      "execution_count": 802,
      "outputs": []
    },
    {
      "cell_type": "code",
      "metadata": {
        "colab": {
          "base_uri": "https://localhost:8080/"
        },
        "id": "sJcj55CXa4Ft",
        "outputId": "74d84892-607f-4dd0-cf02-f031f2eb8acc"
      },
      "source": [
        "test22.isnull().sum()"
      ],
      "execution_count": 807,
      "outputs": [
        {
          "output_type": "execute_result",
          "data": {
            "text/plain": [
              "Accomodation_Owned         0\n",
              "Accomodation_Rented        0\n",
              "reco_type_Individual       0\n",
              "reco_type_Joint            0\n",
              "Is_Spouse_No               0\n",
              "Is_Spouse_Yes              0\n",
              "ID                         0\n",
              "City_Code                  0\n",
              "Region_Code                0\n",
              "Upper_Age                  0\n",
              "Lower_Age                  0\n",
              "Health Indicator           0\n",
              "Holding_Policy_Duration    0\n",
              "Holding_Policy_Type        0\n",
              "Reco_Policy_Cat            0\n",
              "Reco_Policy_Premium        0\n",
              "dtype: int64"
            ]
          },
          "metadata": {
            "tags": []
          },
          "execution_count": 807
        }
      ]
    },
    {
      "cell_type": "code",
      "metadata": {
        "id": "X2wgbfKGa7HU"
      },
      "source": [
        "test22.drop(['Accomodation_Type','Is_Spouse','Reco_Insurance_Type'],axis=1,inplace=True)"
      ],
      "execution_count": 804,
      "outputs": []
    },
    {
      "cell_type": "code",
      "metadata": {
        "colab": {
          "base_uri": "https://localhost:8080/",
          "height": 453
        },
        "id": "WBrtVWmXbMkg",
        "outputId": "07b56c32-288c-422a-d6b1-61dbca5bd129"
      },
      "source": [
        "test22"
      ],
      "execution_count": 805,
      "outputs": [
        {
          "output_type": "execute_result",
          "data": {
            "text/html": [
              "<div>\n",
              "<style scoped>\n",
              "    .dataframe tbody tr th:only-of-type {\n",
              "        vertical-align: middle;\n",
              "    }\n",
              "\n",
              "    .dataframe tbody tr th {\n",
              "        vertical-align: top;\n",
              "    }\n",
              "\n",
              "    .dataframe thead th {\n",
              "        text-align: right;\n",
              "    }\n",
              "</style>\n",
              "<table border=\"1\" class=\"dataframe\">\n",
              "  <thead>\n",
              "    <tr style=\"text-align: right;\">\n",
              "      <th></th>\n",
              "      <th>Accomodation_Owned</th>\n",
              "      <th>Accomodation_Rented</th>\n",
              "      <th>reco_type_Individual</th>\n",
              "      <th>reco_type_Joint</th>\n",
              "      <th>Is_Spouse_No</th>\n",
              "      <th>Is_Spouse_Yes</th>\n",
              "      <th>ID</th>\n",
              "      <th>City_Code</th>\n",
              "      <th>Region_Code</th>\n",
              "      <th>Upper_Age</th>\n",
              "      <th>Lower_Age</th>\n",
              "      <th>Health Indicator</th>\n",
              "      <th>Holding_Policy_Duration</th>\n",
              "      <th>Holding_Policy_Type</th>\n",
              "      <th>Reco_Policy_Cat</th>\n",
              "      <th>Reco_Policy_Premium</th>\n",
              "    </tr>\n",
              "  </thead>\n",
              "  <tbody>\n",
              "    <tr>\n",
              "      <th>0</th>\n",
              "      <td>1</td>\n",
              "      <td>0</td>\n",
              "      <td>1</td>\n",
              "      <td>0</td>\n",
              "      <td>1</td>\n",
              "      <td>0</td>\n",
              "      <td>50883</td>\n",
              "      <td>0</td>\n",
              "      <td>156</td>\n",
              "      <td>-0.862252</td>\n",
              "      <td>-0.738218</td>\n",
              "      <td>NaN</td>\n",
              "      <td>-1.442748e-02</td>\n",
              "      <td>3.000000</td>\n",
              "      <td>5</td>\n",
              "      <td>0.235009</td>\n",
              "    </tr>\n",
              "    <tr>\n",
              "      <th>1</th>\n",
              "      <td>1</td>\n",
              "      <td>0</td>\n",
              "      <td>0</td>\n",
              "      <td>1</td>\n",
              "      <td>0</td>\n",
              "      <td>1</td>\n",
              "      <td>50884</td>\n",
              "      <td>0</td>\n",
              "      <td>7</td>\n",
              "      <td>1.398027</td>\n",
              "      <td>1.462293</td>\n",
              "      <td>X1</td>\n",
              "      <td>-8.711214e-01</td>\n",
              "      <td>3.000000</td>\n",
              "      <td>18</td>\n",
              "      <td>0.722007</td>\n",
              "    </tr>\n",
              "    <tr>\n",
              "      <th>2</th>\n",
              "      <td>0</td>\n",
              "      <td>1</td>\n",
              "      <td>1</td>\n",
              "      <td>0</td>\n",
              "      <td>1</td>\n",
              "      <td>0</td>\n",
              "      <td>50885</td>\n",
              "      <td>0</td>\n",
              "      <td>564</td>\n",
              "      <td>-0.978164</td>\n",
              "      <td>-0.854035</td>\n",
              "      <td>X3</td>\n",
              "      <td>-1.156686e+00</td>\n",
              "      <td>4.000000</td>\n",
              "      <td>17</td>\n",
              "      <td>0.170286</td>\n",
              "    </tr>\n",
              "    <tr>\n",
              "      <th>3</th>\n",
              "      <td>0</td>\n",
              "      <td>1</td>\n",
              "      <td>1</td>\n",
              "      <td>0</td>\n",
              "      <td>1</td>\n",
              "      <td>0</td>\n",
              "      <td>50886</td>\n",
              "      <td>0</td>\n",
              "      <td>1177</td>\n",
              "      <td>-1.267943</td>\n",
              "      <td>-1.143576</td>\n",
              "      <td>X3</td>\n",
              "      <td>-8.711214e-01</td>\n",
              "      <td>3.000000</td>\n",
              "      <td>18</td>\n",
              "      <td>0.166587</td>\n",
              "    </tr>\n",
              "    <tr>\n",
              "      <th>4</th>\n",
              "      <td>1</td>\n",
              "      <td>0</td>\n",
              "      <td>1</td>\n",
              "      <td>0</td>\n",
              "      <td>1</td>\n",
              "      <td>0</td>\n",
              "      <td>50887</td>\n",
              "      <td>0</td>\n",
              "      <td>951</td>\n",
              "      <td>1.745763</td>\n",
              "      <td>1.867650</td>\n",
              "      <td>X3</td>\n",
              "      <td>6.072186e-17</td>\n",
              "      <td>2.440085</td>\n",
              "      <td>5</td>\n",
              "      <td>0.489669</td>\n",
              "    </tr>\n",
              "    <tr>\n",
              "      <th>...</th>\n",
              "      <td>...</td>\n",
              "      <td>...</td>\n",
              "      <td>...</td>\n",
              "      <td>...</td>\n",
              "      <td>...</td>\n",
              "      <td>...</td>\n",
              "      <td>...</td>\n",
              "      <td>...</td>\n",
              "      <td>...</td>\n",
              "      <td>...</td>\n",
              "      <td>...</td>\n",
              "      <td>...</td>\n",
              "      <td>...</td>\n",
              "      <td>...</td>\n",
              "      <td>...</td>\n",
              "      <td>...</td>\n",
              "    </tr>\n",
              "    <tr>\n",
              "      <th>21800</th>\n",
              "      <td>1</td>\n",
              "      <td>0</td>\n",
              "      <td>1</td>\n",
              "      <td>0</td>\n",
              "      <td>1</td>\n",
              "      <td>0</td>\n",
              "      <td>72683</td>\n",
              "      <td>0</td>\n",
              "      <td>1044</td>\n",
              "      <td>0.007086</td>\n",
              "      <td>0.130404</td>\n",
              "      <td>X1</td>\n",
              "      <td>-5.855567e-01</td>\n",
              "      <td>1.000000</td>\n",
              "      <td>18</td>\n",
              "      <td>0.329906</td>\n",
              "    </tr>\n",
              "    <tr>\n",
              "      <th>21801</th>\n",
              "      <td>1</td>\n",
              "      <td>0</td>\n",
              "      <td>1</td>\n",
              "      <td>0</td>\n",
              "      <td>1</td>\n",
              "      <td>0</td>\n",
              "      <td>72684</td>\n",
              "      <td>0</td>\n",
              "      <td>266</td>\n",
              "      <td>0.818468</td>\n",
              "      <td>0.941119</td>\n",
              "      <td>X5</td>\n",
              "      <td>-1.442748e-02</td>\n",
              "      <td>3.000000</td>\n",
              "      <td>18</td>\n",
              "      <td>0.462185</td>\n",
              "    </tr>\n",
              "    <tr>\n",
              "      <th>21802</th>\n",
              "      <td>1</td>\n",
              "      <td>0</td>\n",
              "      <td>1</td>\n",
              "      <td>0</td>\n",
              "      <td>1</td>\n",
              "      <td>0</td>\n",
              "      <td>72685</td>\n",
              "      <td>0</td>\n",
              "      <td>2470</td>\n",
              "      <td>1.687807</td>\n",
              "      <td>1.809742</td>\n",
              "      <td>X3</td>\n",
              "      <td>6.072186e-17</td>\n",
              "      <td>2.440085</td>\n",
              "      <td>1</td>\n",
              "      <td>0.376802</td>\n",
              "    </tr>\n",
              "    <tr>\n",
              "      <th>21803</th>\n",
              "      <td>0</td>\n",
              "      <td>1</td>\n",
              "      <td>1</td>\n",
              "      <td>0</td>\n",
              "      <td>1</td>\n",
              "      <td>0</td>\n",
              "      <td>72686</td>\n",
              "      <td>0</td>\n",
              "      <td>1676</td>\n",
              "      <td>-1.152032</td>\n",
              "      <td>-1.027759</td>\n",
              "      <td>X4</td>\n",
              "      <td>-8.711214e-01</td>\n",
              "      <td>1.000000</td>\n",
              "      <td>19</td>\n",
              "      <td>0.226216</td>\n",
              "    </tr>\n",
              "    <tr>\n",
              "      <th>21804</th>\n",
              "      <td>1</td>\n",
              "      <td>0</td>\n",
              "      <td>1</td>\n",
              "      <td>0</td>\n",
              "      <td>1</td>\n",
              "      <td>0</td>\n",
              "      <td>72687</td>\n",
              "      <td>0</td>\n",
              "      <td>3617</td>\n",
              "      <td>1.629851</td>\n",
              "      <td>1.751834</td>\n",
              "      <td>X2</td>\n",
              "      <td>2.270090e+00</td>\n",
              "      <td>2.000000</td>\n",
              "      <td>3</td>\n",
              "      <td>0.501826</td>\n",
              "    </tr>\n",
              "  </tbody>\n",
              "</table>\n",
              "<p>21805 rows × 16 columns</p>\n",
              "</div>"
            ],
            "text/plain": [
              "       Accomodation_Owned  ...  Reco_Policy_Premium\n",
              "0                       1  ...             0.235009\n",
              "1                       1  ...             0.722007\n",
              "2                       0  ...             0.170286\n",
              "3                       0  ...             0.166587\n",
              "4                       1  ...             0.489669\n",
              "...                   ...  ...                  ...\n",
              "21800                   1  ...             0.329906\n",
              "21801                   1  ...             0.462185\n",
              "21802                   1  ...             0.376802\n",
              "21803                   0  ...             0.226216\n",
              "21804                   1  ...             0.501826\n",
              "\n",
              "[21805 rows x 16 columns]"
            ]
          },
          "metadata": {
            "tags": []
          },
          "execution_count": 805
        }
      ]
    },
    {
      "cell_type": "code",
      "metadata": {
        "id": "EvM7zyenbODQ"
      },
      "source": [
        "test22['Health Indicator']=le.fit_transform(test22['Health Indicator'].astype(str))"
      ],
      "execution_count": 806,
      "outputs": []
    },
    {
      "cell_type": "code",
      "metadata": {
        "id": "j34AvuxmdLUo"
      },
      "source": [
        "test22.drop([\"ID\"],axis=1,inplace=True)"
      ],
      "execution_count": 821,
      "outputs": []
    },
    {
      "cell_type": "code",
      "metadata": {
        "id": "VTcFQTPHbXml"
      },
      "source": [
        "response=model.predict(test22)"
      ],
      "execution_count": 823,
      "outputs": []
    },
    {
      "cell_type": "code",
      "metadata": {
        "colab": {
          "base_uri": "https://localhost:8080/",
          "height": 202
        },
        "id": "n-IcCj3Ib2Px",
        "outputId": "43c4d8a6-2119-4d91-ef8d-0dc7e20776d3"
      },
      "source": [
        "submission = pd.DataFrame(data = {'ID': test[\"ID\"], 'Response': response})\r\n",
        "submission.to_csv('submission_insurance.csv', index = False)\r\n",
        "submission.head()"
      ],
      "execution_count": 825,
      "outputs": [
        {
          "output_type": "execute_result",
          "data": {
            "text/html": [
              "<div>\n",
              "<style scoped>\n",
              "    .dataframe tbody tr th:only-of-type {\n",
              "        vertical-align: middle;\n",
              "    }\n",
              "\n",
              "    .dataframe tbody tr th {\n",
              "        vertical-align: top;\n",
              "    }\n",
              "\n",
              "    .dataframe thead th {\n",
              "        text-align: right;\n",
              "    }\n",
              "</style>\n",
              "<table border=\"1\" class=\"dataframe\">\n",
              "  <thead>\n",
              "    <tr style=\"text-align: right;\">\n",
              "      <th></th>\n",
              "      <th>ID</th>\n",
              "      <th>Response</th>\n",
              "    </tr>\n",
              "  </thead>\n",
              "  <tbody>\n",
              "    <tr>\n",
              "      <th>0</th>\n",
              "      <td>50883</td>\n",
              "      <td>0</td>\n",
              "    </tr>\n",
              "    <tr>\n",
              "      <th>1</th>\n",
              "      <td>50884</td>\n",
              "      <td>0</td>\n",
              "    </tr>\n",
              "    <tr>\n",
              "      <th>2</th>\n",
              "      <td>50885</td>\n",
              "      <td>0</td>\n",
              "    </tr>\n",
              "    <tr>\n",
              "      <th>3</th>\n",
              "      <td>50886</td>\n",
              "      <td>0</td>\n",
              "    </tr>\n",
              "    <tr>\n",
              "      <th>4</th>\n",
              "      <td>50887</td>\n",
              "      <td>0</td>\n",
              "    </tr>\n",
              "  </tbody>\n",
              "</table>\n",
              "</div>"
            ],
            "text/plain": [
              "      ID  Response\n",
              "0  50883         0\n",
              "1  50884         0\n",
              "2  50885         0\n",
              "3  50886         0\n",
              "4  50887         0"
            ]
          },
          "metadata": {
            "tags": []
          },
          "execution_count": 825
        }
      ]
    },
    {
      "cell_type": "code",
      "metadata": {
        "colab": {
          "base_uri": "https://localhost:8080/",
          "height": 117
        },
        "id": "jGctuxY6b9lL",
        "outputId": "c2a6fc74-ae45-422e-e855-d14750f038c8"
      },
      "source": [
        "x_test.head(1)"
      ],
      "execution_count": 817,
      "outputs": [
        {
          "output_type": "execute_result",
          "data": {
            "text/html": [
              "<div>\n",
              "<style scoped>\n",
              "    .dataframe tbody tr th:only-of-type {\n",
              "        vertical-align: middle;\n",
              "    }\n",
              "\n",
              "    .dataframe tbody tr th {\n",
              "        vertical-align: top;\n",
              "    }\n",
              "\n",
              "    .dataframe thead th {\n",
              "        text-align: right;\n",
              "    }\n",
              "</style>\n",
              "<table border=\"1\" class=\"dataframe\">\n",
              "  <thead>\n",
              "    <tr style=\"text-align: right;\">\n",
              "      <th></th>\n",
              "      <th>Accomodation_Owned</th>\n",
              "      <th>Accomodation_Rented</th>\n",
              "      <th>reco_type_Individual</th>\n",
              "      <th>reco_type_Joint</th>\n",
              "      <th>Is_Spouse_No</th>\n",
              "      <th>Is_Spouse_Yes</th>\n",
              "      <th>City_Code</th>\n",
              "      <th>Region_Code</th>\n",
              "      <th>Upper_Age</th>\n",
              "      <th>Lower_Age</th>\n",
              "      <th>Health Indicator</th>\n",
              "      <th>Holding_Policy_Duration</th>\n",
              "      <th>Holding_Policy_Type</th>\n",
              "      <th>Reco_Policy_Cat</th>\n",
              "      <th>Reco_Policy_Premium</th>\n",
              "    </tr>\n",
              "  </thead>\n",
              "  <tbody>\n",
              "    <tr>\n",
              "      <th>9458</th>\n",
              "      <td>0</td>\n",
              "      <td>1</td>\n",
              "      <td>1</td>\n",
              "      <td>0</td>\n",
              "      <td>1</td>\n",
              "      <td>0</td>\n",
              "      <td>9</td>\n",
              "      <td>980</td>\n",
              "      <td>42</td>\n",
              "      <td>42</td>\n",
              "      <td>2</td>\n",
              "      <td>3.0</td>\n",
              "      <td>1.0</td>\n",
              "      <td>2</td>\n",
              "      <td>13530.0</td>\n",
              "    </tr>\n",
              "  </tbody>\n",
              "</table>\n",
              "</div>"
            ],
            "text/plain": [
              "      Accomodation_Owned  ...  Reco_Policy_Premium\n",
              "9458                   0  ...              13530.0\n",
              "\n",
              "[1 rows x 15 columns]"
            ]
          },
          "metadata": {
            "tags": []
          },
          "execution_count": 817
        }
      ]
    },
    {
      "cell_type": "code",
      "metadata": {
        "colab": {
          "base_uri": "https://localhost:8080/",
          "height": 117
        },
        "id": "Aa2dZF9scAev",
        "outputId": "8227f4cb-9d07-47fe-f069-201641c7cc71"
      },
      "source": [
        "test22.head(1)"
      ],
      "execution_count": 818,
      "outputs": [
        {
          "output_type": "execute_result",
          "data": {
            "text/html": [
              "<div>\n",
              "<style scoped>\n",
              "    .dataframe tbody tr th:only-of-type {\n",
              "        vertical-align: middle;\n",
              "    }\n",
              "\n",
              "    .dataframe tbody tr th {\n",
              "        vertical-align: top;\n",
              "    }\n",
              "\n",
              "    .dataframe thead th {\n",
              "        text-align: right;\n",
              "    }\n",
              "</style>\n",
              "<table border=\"1\" class=\"dataframe\">\n",
              "  <thead>\n",
              "    <tr style=\"text-align: right;\">\n",
              "      <th></th>\n",
              "      <th>Accomodation_Owned</th>\n",
              "      <th>Accomodation_Rented</th>\n",
              "      <th>reco_type_Individual</th>\n",
              "      <th>reco_type_Joint</th>\n",
              "      <th>Is_Spouse_No</th>\n",
              "      <th>Is_Spouse_Yes</th>\n",
              "      <th>ID</th>\n",
              "      <th>City_Code</th>\n",
              "      <th>Region_Code</th>\n",
              "      <th>Upper_Age</th>\n",
              "      <th>Lower_Age</th>\n",
              "      <th>Health Indicator</th>\n",
              "      <th>Holding_Policy_Duration</th>\n",
              "      <th>Holding_Policy_Type</th>\n",
              "      <th>Reco_Policy_Cat</th>\n",
              "      <th>Reco_Policy_Premium</th>\n",
              "    </tr>\n",
              "  </thead>\n",
              "  <tbody>\n",
              "    <tr>\n",
              "      <th>0</th>\n",
              "      <td>1</td>\n",
              "      <td>0</td>\n",
              "      <td>1</td>\n",
              "      <td>0</td>\n",
              "      <td>1</td>\n",
              "      <td>0</td>\n",
              "      <td>50883</td>\n",
              "      <td>0</td>\n",
              "      <td>156</td>\n",
              "      <td>-0.862252</td>\n",
              "      <td>-0.738218</td>\n",
              "      <td>9</td>\n",
              "      <td>-0.014427</td>\n",
              "      <td>3.0</td>\n",
              "      <td>5</td>\n",
              "      <td>0.235009</td>\n",
              "    </tr>\n",
              "  </tbody>\n",
              "</table>\n",
              "</div>"
            ],
            "text/plain": [
              "   Accomodation_Owned  ...  Reco_Policy_Premium\n",
              "0                   1  ...             0.235009\n",
              "\n",
              "[1 rows x 16 columns]"
            ]
          },
          "metadata": {
            "tags": []
          },
          "execution_count": 818
        }
      ]
    },
    {
      "cell_type": "code",
      "metadata": {
        "id": "Pt_1uSVAckCJ"
      },
      "source": [
        ""
      ],
      "execution_count": null,
      "outputs": []
    }
  ]
}